{
 "cells": [
  {
   "cell_type": "code",
   "execution_count": 23,
   "metadata": {},
   "outputs": [],
   "source": [
    "import pandas as pd\n",
    "import numpy as np\n",
    "import matplotlib.pyplot as plt\n",
    "#import Intersection_Inspection as ii\n",
    "import Intersection_Inspection as ii\n",
    "\n",
    "%matplotlib inline"
   ]
  },
  {
   "cell_type": "code",
   "execution_count": 6,
   "metadata": {},
   "outputs": [
    {
     "data": {
      "text/html": [
       "<div>\n",
       "<style scoped>\n",
       "    .dataframe tbody tr th:only-of-type {\n",
       "        vertical-align: middle;\n",
       "    }\n",
       "\n",
       "    .dataframe tbody tr th {\n",
       "        vertical-align: top;\n",
       "    }\n",
       "\n",
       "    .dataframe thead th {\n",
       "        text-align: right;\n",
       "    }\n",
       "</style>\n",
       "<table border=\"1\" class=\"dataframe\">\n",
       "  <thead>\n",
       "    <tr style=\"text-align: right;\">\n",
       "      <th></th>\n",
       "      <th>X</th>\n",
       "      <th>Y</th>\n",
       "      <th>OBJECTID</th>\n",
       "      <th>CRIMEID</th>\n",
       "      <th>CCN</th>\n",
       "      <th>REPORTDATE</th>\n",
       "      <th>ROUTEID</th>\n",
       "      <th>MEASURE</th>\n",
       "      <th>OFFSET</th>\n",
       "      <th>STREETSEGID</th>\n",
       "      <th>...</th>\n",
       "      <th>BICYCLISTSIMPAIRED</th>\n",
       "      <th>DRIVERSIMPAIRED</th>\n",
       "      <th>TOTAL_TAXIS</th>\n",
       "      <th>TOTAL_GOVERNMENT</th>\n",
       "      <th>SPEEDING_INVOLVED</th>\n",
       "      <th>NEARESTINTROUTEID</th>\n",
       "      <th>NEARESTINTSTREETNAME</th>\n",
       "      <th>OFFINTERSECTION</th>\n",
       "      <th>INTAPPROACHDIRECTION</th>\n",
       "      <th>LOCERROR</th>\n",
       "    </tr>\n",
       "  </thead>\n",
       "  <tbody>\n",
       "    <tr>\n",
       "      <th>0</th>\n",
       "      <td>NaN</td>\n",
       "      <td>NaN</td>\n",
       "      <td>38010550</td>\n",
       "      <td>26960077</td>\n",
       "      <td>16088739</td>\n",
       "      <td>2016-06-02T04:28:03.000Z</td>\n",
       "      <td>NaN</td>\n",
       "      <td>NaN</td>\n",
       "      <td>NaN</td>\n",
       "      <td>NaN</td>\n",
       "      <td>...</td>\n",
       "      <td>0</td>\n",
       "      <td>0</td>\n",
       "      <td>0.0</td>\n",
       "      <td>1.0</td>\n",
       "      <td>0.0</td>\n",
       "      <td>NaN</td>\n",
       "      <td>NaN</td>\n",
       "      <td>NaN</td>\n",
       "      <td>NaN</td>\n",
       "      <td>NaN</td>\n",
       "    </tr>\n",
       "    <tr>\n",
       "      <th>1</th>\n",
       "      <td>NaN</td>\n",
       "      <td>NaN</td>\n",
       "      <td>38010551</td>\n",
       "      <td>26970671</td>\n",
       "      <td>16095587</td>\n",
       "      <td>2016-06-12T15:57:22.000Z</td>\n",
       "      <td>NaN</td>\n",
       "      <td>NaN</td>\n",
       "      <td>NaN</td>\n",
       "      <td>NaN</td>\n",
       "      <td>...</td>\n",
       "      <td>0</td>\n",
       "      <td>0</td>\n",
       "      <td>2.0</td>\n",
       "      <td>0.0</td>\n",
       "      <td>0.0</td>\n",
       "      <td>NaN</td>\n",
       "      <td>NaN</td>\n",
       "      <td>NaN</td>\n",
       "      <td>NaN</td>\n",
       "      <td>NaN</td>\n",
       "    </tr>\n",
       "    <tr>\n",
       "      <th>2</th>\n",
       "      <td>NaN</td>\n",
       "      <td>NaN</td>\n",
       "      <td>38010552</td>\n",
       "      <td>27144599</td>\n",
       "      <td>16204725</td>\n",
       "      <td>2016-12-03T14:06:24.000Z</td>\n",
       "      <td>NaN</td>\n",
       "      <td>NaN</td>\n",
       "      <td>NaN</td>\n",
       "      <td>NaN</td>\n",
       "      <td>...</td>\n",
       "      <td>0</td>\n",
       "      <td>0</td>\n",
       "      <td>1.0</td>\n",
       "      <td>0.0</td>\n",
       "      <td>0.0</td>\n",
       "      <td>NaN</td>\n",
       "      <td>NaN</td>\n",
       "      <td>NaN</td>\n",
       "      <td>NaN</td>\n",
       "      <td>NaN</td>\n",
       "    </tr>\n",
       "    <tr>\n",
       "      <th>3</th>\n",
       "      <td>NaN</td>\n",
       "      <td>NaN</td>\n",
       "      <td>38010553</td>\n",
       "      <td>26719689</td>\n",
       "      <td>15159240</td>\n",
       "      <td>2015-10-08T01:35:59.000Z</td>\n",
       "      <td>NaN</td>\n",
       "      <td>NaN</td>\n",
       "      <td>NaN</td>\n",
       "      <td>NaN</td>\n",
       "      <td>...</td>\n",
       "      <td>0</td>\n",
       "      <td>0</td>\n",
       "      <td>2.0</td>\n",
       "      <td>0.0</td>\n",
       "      <td>0.0</td>\n",
       "      <td>NaN</td>\n",
       "      <td>NaN</td>\n",
       "      <td>NaN</td>\n",
       "      <td>NaN</td>\n",
       "      <td>NaN</td>\n",
       "    </tr>\n",
       "    <tr>\n",
       "      <th>4</th>\n",
       "      <td>NaN</td>\n",
       "      <td>NaN</td>\n",
       "      <td>38010554</td>\n",
       "      <td>26722499</td>\n",
       "      <td>15160560</td>\n",
       "      <td>2015-10-10T09:21:46.000Z</td>\n",
       "      <td>NaN</td>\n",
       "      <td>NaN</td>\n",
       "      <td>NaN</td>\n",
       "      <td>NaN</td>\n",
       "      <td>...</td>\n",
       "      <td>0</td>\n",
       "      <td>0</td>\n",
       "      <td>0.0</td>\n",
       "      <td>0.0</td>\n",
       "      <td>0.0</td>\n",
       "      <td>NaN</td>\n",
       "      <td>NaN</td>\n",
       "      <td>NaN</td>\n",
       "      <td>NaN</td>\n",
       "      <td>NaN</td>\n",
       "    </tr>\n",
       "  </tbody>\n",
       "</table>\n",
       "<p>5 rows × 49 columns</p>\n",
       "</div>"
      ],
      "text/plain": [
       "    X   Y  OBJECTID   CRIMEID       CCN                REPORTDATE ROUTEID  \\\n",
       "0 NaN NaN  38010550  26960077  16088739  2016-06-02T04:28:03.000Z     NaN   \n",
       "1 NaN NaN  38010551  26970671  16095587  2016-06-12T15:57:22.000Z     NaN   \n",
       "2 NaN NaN  38010552  27144599  16204725  2016-12-03T14:06:24.000Z     NaN   \n",
       "3 NaN NaN  38010553  26719689  15159240  2015-10-08T01:35:59.000Z     NaN   \n",
       "4 NaN NaN  38010554  26722499  15160560  2015-10-10T09:21:46.000Z     NaN   \n",
       "\n",
       "   MEASURE  OFFSET  STREETSEGID   ...     BICYCLISTSIMPAIRED DRIVERSIMPAIRED  \\\n",
       "0      NaN     NaN          NaN   ...                      0               0   \n",
       "1      NaN     NaN          NaN   ...                      0               0   \n",
       "2      NaN     NaN          NaN   ...                      0               0   \n",
       "3      NaN     NaN          NaN   ...                      0               0   \n",
       "4      NaN     NaN          NaN   ...                      0               0   \n",
       "\n",
       "   TOTAL_TAXIS  TOTAL_GOVERNMENT SPEEDING_INVOLVED  NEARESTINTROUTEID  \\\n",
       "0          0.0               1.0               0.0                NaN   \n",
       "1          2.0               0.0               0.0                NaN   \n",
       "2          1.0               0.0               0.0                NaN   \n",
       "3          2.0               0.0               0.0                NaN   \n",
       "4          0.0               0.0               0.0                NaN   \n",
       "\n",
       "   NEARESTINTSTREETNAME  OFFINTERSECTION  INTAPPROACHDIRECTION LOCERROR  \n",
       "0                   NaN              NaN                   NaN      NaN  \n",
       "1                   NaN              NaN                   NaN      NaN  \n",
       "2                   NaN              NaN                   NaN      NaN  \n",
       "3                   NaN              NaN                   NaN      NaN  \n",
       "4                   NaN              NaN                   NaN      NaN  \n",
       "\n",
       "[5 rows x 49 columns]"
      ]
     },
     "execution_count": 6,
     "metadata": {},
     "output_type": "execute_result"
    }
   ],
   "source": [
    "df = pd.read_csv('data/Crashes_in_DC_larger.csv', low_memory=False)\n",
    "df.head()"
   ]
  },
  {
   "cell_type": "code",
   "execution_count": 7,
   "metadata": {},
   "outputs": [],
   "source": [
    "df.columns = [x.lower() for x in df.columns]\n",
    "df.drop(columns=['locerror','todate'], inplace=True)\n",
    "df.columns\n",
    "\n",
    "# Fill in some missing x and y values.\n",
    "df.x = df.longitude\n",
    "df.y = df.latitude\n",
    "\n",
    "df.dropna(how='any', axis=0, inplace=True)\n",
    "\n",
    "# Reset the index in the reduced df so we avoid index out of bounds errors.\n",
    "df.reset_index(inplace=True, drop=True) # avoid index out of bounds\n",
    "\n",
    "# Correct an x-variable with the wrong sign (only one instance).\n",
    "df.loc[df.x > 0]['x'] = df.x * -1\n",
    "\n",
    "# Convert ward from string to a numeric value\n",
    "df['ward_number'] = df.ward.str.split(' ', expand=True)[1]\n",
    "df.ward_number = pd.to_numeric(df.ward_number)\n",
    "\n",
    "# Clear out remaining null wards\n",
    "df.loc[df.ward_number.isnull()][['ward','ward_number']]\n",
    "df.drop(df.loc[df.ward_number.isnull()].index, axis=0, inplace=True)"
   ]
  },
  {
   "cell_type": "code",
   "execution_count": 168,
   "metadata": {},
   "outputs": [
    {
     "name": "stdout",
     "output_type": "stream",
     "text": [
      "CPU times: user 25 s, sys: 3.68 s, total: 28.7 s\n",
      "Wall time: 25.1 s\n"
     ]
    }
   ],
   "source": [
    "%%time\n",
    "def get_nearby_pts(row):\n",
    "    xrows = df.iloc[((df['x']-abs(row.x)) + (df['y'] - abs(row.y))).abs().argsort()[:50]].index.tolist()\n",
    "    return xrows\n",
    "    \n"
   ]
  },
  {
   "cell_type": "code",
   "execution_count": 175,
   "metadata": {
    "collapsed": true
   },
   "outputs": [
    {
     "name": "stdout",
     "output_type": "stream",
     "text": [
      "0 5000\n",
      "5000 10000\n",
      "10000 15000\n",
      "15000 20000\n",
      "20000 25000\n",
      "25000 30000\n",
      "30000 35000\n",
      "35000 40000\n",
      "40000 45000\n",
      "45000 50000\n",
      "50000 55000\n",
      "55000 60000\n",
      "60000 65000\n",
      "65000 70000\n",
      "70000 75000\n",
      "75000 80000\n",
      "80000 85000\n",
      "85000 90000\n",
      "90000 95000\n",
      "95000 100000\n",
      "100000 105000\n",
      "105000 110000\n",
      "110000 115000\n",
      "115000 120000\n",
      "120000 125000\n"
     ]
    }
   ],
   "source": []
  },
  {
   "cell_type": "code",
   "execution_count": 229,
   "metadata": {},
   "outputs": [
    {
     "name": "stdout",
     "output_type": "stream",
     "text": [
      "<class 'pandas.core.frame.DataFrame'> <class 'pandas.core.series.Series'> (128153, 50) (50,)\n",
      "-77.012155\n",
      "CPU times: user 7.96 ms, sys: 1.82 ms, total: 9.78 ms\n",
      "Wall time: 7.68 ms\n"
     ]
    }
   ],
   "source": [
    "%%time\n",
    "# try again to calculate the closest points\n",
    "def get_nearby_pts2(row):\n",
    "    xrows = [5,4,3,2,1]\n",
    "    #print(df.x, row.x, type(df.x), type(row.x))\n",
    "    #xrows = df.iloc[math.sqrt((df['x']-row.x)**2 + (df['y'] - row.y)**2).argsort()[:10]].index.tolist()\n",
    "    print(type(df), type(row), df.shape, row.shape)\n",
    "    #print(df.x, row.x)\n",
    "    print(row.x)\n",
    "    #print(math.sqrt((df.x - row.x)**2 + (df.y - row.y)**2))\n",
    "    return xrows\n",
    "\n",
    "df['dummy'] = df[:1].apply(get_nearby_pts2, axis=1)\n",
    "df['dummy']"
   ]
  },
  {
   "cell_type": "markdown",
   "metadata": {},
   "source": [
    "### Calculating nearest points and distances"
   ]
  },
  {
   "cell_type": "code",
   "execution_count": 176,
   "metadata": {},
   "outputs": [
    {
     "data": {
      "text/plain": [
       "3153"
      ]
     },
     "execution_count": 176,
     "metadata": {},
     "output_type": "execute_result"
    }
   ],
   "source": [
    "lower = (step*int(df.shape[0]/step))\n",
    "upper = lower + df.shape[0] % step\n",
    "\n",
    "df['closest_pts'] = df[lower:upper].apply(get_nearby_pts, axis=1)"
   ]
  },
  {
   "cell_type": "code",
   "execution_count": 186,
   "metadata": {},
   "outputs": [
    {
     "name": "stdout",
     "output_type": "stream",
     "text": [
      "CPU times: user 30.1 ms, sys: 2.95 ms, total: 33.1 ms\n",
      "Wall time: 30.1 ms\n",
      "CPU times: user 27min 39s, sys: 3min 41s, total: 31min 21s\n",
      "Wall time: 27min 27s\n",
      "CPU times: user 27min 39s, sys: 3min 41s, total: 31min 21s\n",
      "Wall time: 27min 27s\n"
     ]
    }
   ],
   "source": [
    "%time df['closest_pts'] = df.apply(get_nearby_pts, axis=1) #27 minutes for all rows"
   ]
  },
  {
   "cell_type": "code",
   "execution_count": 187,
   "metadata": {},
   "outputs": [
    {
     "data": {
      "text/plain": [
       "0         [63815, 64030, 64012, 63824, 63868, 64106, 103...\n",
       "1         [63815, 64030, 63824, 63868, 64012, 64106, 103...\n",
       "2         [63815, 64030, 63824, 63868, 64012, 64106, 103...\n",
       "3         [63815, 64030, 63824, 63868, 64012, 64106, 103...\n",
       "4         [63815, 64030, 64012, 63824, 63868, 64106, 103...\n",
       "5         [63815, 64030, 64012, 63824, 63868, 64106, 103...\n",
       "6         [63815, 64030, 63824, 63868, 64012, 64106, 103...\n",
       "7         [63815, 64030, 64012, 63824, 63868, 64106, 103...\n",
       "8         [63815, 64030, 63824, 64012, 63868, 64106, 103...\n",
       "9         [63815, 64030, 64012, 63824, 63868, 64106, 103...\n",
       "10        [63815, 64030, 63824, 64012, 63868, 64106, 103...\n",
       "11        [63815, 64030, 64012, 63824, 63868, 64106, 103...\n",
       "12        [63815, 64030, 64012, 63824, 63868, 64106, 103...\n",
       "13        [63815, 64030, 64012, 63824, 63868, 64106, 103...\n",
       "14        [63815, 64030, 63824, 63868, 64012, 64106, 103...\n",
       "15        [63815, 64030, 64012, 63824, 63868, 64106, 103...\n",
       "16        [63815, 64030, 64012, 63824, 63868, 64106, 103...\n",
       "17        [63815, 64030, 64012, 63824, 63868, 64106, 103...\n",
       "18        [63815, 64030, 64012, 63824, 63868, 64106, 103...\n",
       "19        [63815, 64030, 64012, 63824, 63868, 64106, 103...\n",
       "20        [63815, 64030, 64012, 63824, 63868, 64106, 103...\n",
       "21        [63815, 64030, 64012, 63824, 63868, 64106, 103...\n",
       "22        [63815, 64030, 63824, 63868, 64012, 64106, 103...\n",
       "23        [63815, 64030, 64012, 63824, 63868, 64106, 103...\n",
       "24        [63815, 64030, 63824, 64012, 63868, 64106, 103...\n",
       "25        [63815, 64030, 64012, 63824, 63868, 64106, 103...\n",
       "26        [63815, 64030, 63824, 64012, 63868, 64106, 103...\n",
       "27        [63815, 64030, 63824, 63868, 64012, 64106, 103...\n",
       "28        [63815, 64030, 63824, 63868, 64012, 64106, 103...\n",
       "29        [63815, 64030, 64012, 63824, 63868, 64106, 103...\n",
       "                                ...                        \n",
       "128125    [63815, 64030, 63824, 63868, 64012, 64106, 103...\n",
       "128126    [63815, 64030, 64012, 63824, 63868, 64106, 103...\n",
       "128127    [63815, 64030, 64012, 63824, 63868, 64106, 103...\n",
       "128128    [63815, 64030, 63824, 64012, 63868, 64106, 103...\n",
       "128129    [63815, 64030, 64012, 63824, 63868, 64106, 103...\n",
       "128130    [63815, 64030, 64012, 63824, 63868, 64106, 103...\n",
       "128131    [63815, 64030, 63824, 63868, 64012, 64106, 103...\n",
       "128132    [63815, 64030, 63824, 63868, 64012, 64106, 103...\n",
       "128133    [63815, 64030, 64012, 63824, 63868, 64106, 103...\n",
       "128134    [63815, 64030, 64012, 63824, 63868, 64106, 103...\n",
       "128135    [63815, 64030, 63824, 64012, 63868, 64106, 103...\n",
       "128136    [63815, 64030, 64012, 63824, 63868, 64106, 103...\n",
       "128137    [63815, 64030, 63824, 63868, 64012, 64106, 103...\n",
       "128138    [63815, 64030, 64012, 63824, 63868, 64106, 103...\n",
       "128139    [63815, 64030, 64012, 63824, 63868, 64106, 103...\n",
       "128140    [63815, 64030, 64012, 63824, 63868, 64106, 103...\n",
       "128141    [63815, 64030, 64012, 63824, 63868, 64106, 103...\n",
       "128142    [63815, 64030, 64012, 63824, 63868, 64106, 103...\n",
       "128143    [63815, 64030, 63824, 64012, 63868, 64106, 103...\n",
       "128144    [63815, 64030, 64012, 63824, 63868, 64106, 103...\n",
       "128145    [63815, 64030, 64012, 63824, 63868, 64106, 103...\n",
       "128146    [63815, 64030, 64012, 63824, 63868, 64106, 103...\n",
       "128147    [63815, 64030, 64012, 63824, 63868, 64106, 103...\n",
       "128148    [63815, 64030, 64012, 63824, 63868, 64106, 103...\n",
       "128149    [63815, 64030, 63824, 63868, 64012, 64106, 103...\n",
       "128150    [63815, 64030, 63824, 64012, 63868, 64106, 103...\n",
       "128151    [63815, 64030, 63824, 63868, 64012, 64106, 103...\n",
       "128152    [63815, 64030, 63824, 63868, 64012, 64106, 103...\n",
       "128153    [63815, 64030, 63824, 64012, 63868, 64106, 103...\n",
       "128154    [63815, 64030, 63824, 63868, 64012, 64106, 103...\n",
       "Name: closest_pts, Length: 128153, dtype: object"
      ]
     },
     "execution_count": 187,
     "metadata": {},
     "output_type": "execute_result"
    }
   ],
   "source": [
    "df.closest_pts"
   ]
  },
  {
   "cell_type": "code",
   "execution_count": 188,
   "metadata": {},
   "outputs": [],
   "source": [
    "df.to_csv('data/crashes_with_closest_points.csv')"
   ]
  },
  {
   "cell_type": "code",
   "execution_count": 202,
   "metadata": {},
   "outputs": [
    {
     "data": {
      "text/plain": [
       "0.00030489670382041555"
      ]
     },
     "execution_count": 202,
     "metadata": {},
     "output_type": "execute_result"
    }
   ],
   "source": [
    "points = df[:1].closest_pts[0]\n",
    "#xpoints = df[[points]].loc[df.]\n",
    "# Are these really the closest points??  I think maybe not.  Calc distances...\n",
    "import math\n",
    "mydistances = math.sqrt((df.loc[63815].x - df.loc[64030].x)**2 + (df.loc[63815].y - df.loc[64030].y)**2)\n",
    "mydistances"
   ]
  },
  {
   "cell_type": "code",
   "execution_count": 214,
   "metadata": {},
   "outputs": [
    {
     "name": "stdout",
     "output_type": "stream",
     "text": [
      "CPU times: user 17.8 s, sys: 47.2 ms, total: 17.9 s\n",
      "Wall time: 17.9 s\n"
     ]
    }
   ],
   "source": [
    "%%time\n",
    "def get_distances(row):\n",
    "    distances = []\n",
    "    for point in row.closest_pts:\n",
    "        dist = math.sqrt((row.x - df.loc[point].x)**2 + (row.y - df.loc[point].y)**2)\n",
    "        distances.append(dist)\n",
    "    \n",
    "    #print(len(distances))\n",
    "    return distances\n",
    "\n",
    "df[:1000].apply(get_distances, axis=1)"
   ]
  },
  {
   "cell_type": "code",
   "execution_count": null,
   "metadata": {},
   "outputs": [],
   "source": []
  },
  {
   "cell_type": "code",
   "execution_count": null,
   "metadata": {},
   "outputs": [],
   "source": []
  }
 ],
 "metadata": {
  "kernelspec": {
   "display_name": "Python 3",
   "language": "python",
   "name": "python3"
  },
  "language_info": {
   "codemirror_mode": {
    "name": "ipython",
    "version": 3
   },
   "file_extension": ".py",
   "mimetype": "text/x-python",
   "name": "python",
   "nbconvert_exporter": "python",
   "pygments_lexer": "ipython3",
   "version": "3.6.5"
  }
 },
 "nbformat": 4,
 "nbformat_minor": 2
}
