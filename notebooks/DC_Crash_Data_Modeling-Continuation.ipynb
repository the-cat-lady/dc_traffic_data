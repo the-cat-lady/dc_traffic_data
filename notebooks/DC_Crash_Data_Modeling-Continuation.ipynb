{
 "cells": [
  {
   "cell_type": "markdown",
   "metadata": {},
   "source": [
    "## Predicting severe crashes from DC Crash Data\n",
    "\n",
    "In the following exercise I attempt to predict whether an accident will involve serious injuries or fatalities, using DC Crash Data.  I use two methods: Random Forest classifiers, and Logistic Regression classifiers.  I compare the scores and interpret the results."
   ]
  },
  {
   "cell_type": "code",
   "execution_count": 69,
   "metadata": {},
   "outputs": [],
   "source": [
    "import pandas as pd\n",
    "import numpy as np\n",
    "import matplotlib.pyplot as plt\n",
    "\n",
    "#from sklearn.ensemble import RandomForestRegressor\n",
    "from sklearn import model_selection\n",
    "from sklearn.ensemble import RandomForestClassifier\n",
    "from sklearn.linear_model import LogisticRegression\n",
    "from sklearn.neighbors import KNeighborsClassifier\n",
    "from sklearn.model_selection import train_test_split\n",
    "from sklearn.model_selection import cross_val_score\n",
    "from sklearn.utils import resample\n",
    "\n",
    "%matplotlib inline"
   ]
  },
  {
   "cell_type": "code",
   "execution_count": 70,
   "metadata": {},
   "outputs": [],
   "source": [
    "df = pd.read_csv('data/cleaned_crashes.csv', low_memory=False)"
   ]
  },
  {
   "cell_type": "markdown",
   "metadata": {},
   "source": [
    "### Final preparation of data for modeling\n",
    "Dropping unneeded columns, and dropping rows with missing or invalid data."
   ]
  },
  {
   "cell_type": "code",
   "execution_count": 71,
   "metadata": {},
   "outputs": [],
   "source": [
    "df.drop(columns=['reportdate','streetsegid','routeid','roadwaysegid','address','ward'], inplace=True)"
   ]
  },
  {
   "cell_type": "code",
   "execution_count": 72,
   "metadata": {},
   "outputs": [],
   "source": [
    "df.replace([np.inf, -np.inf], np.nan)\n",
    "df.isnull().sum()\n",
    "df.dropna(inplace=True)\n",
    "\n",
    "df.date_r = df.date_r.astype('datetime64[ns]')\n",
    "df.to_csv('data/random_forest_data.csv')"
   ]
  },
  {
   "cell_type": "markdown",
   "metadata": {},
   "source": [
    "### Random Forest\n",
    "\n",
    "1. clean up data (for nulls, etc.)\n",
    "2. split the data (train/test)\n",
    "3. create model instance\n",
    "4. fit the data\n",
    "5. predict and score"
   ]
  },
  {
   "cell_type": "code",
   "execution_count": 73,
   "metadata": {},
   "outputs": [
    {
     "data": {
      "text/plain": [
       "Index(['x', 'y', 'majorinjuries_bicyclist', 'minorinjuries_bicyclist',\n",
       "       'fatal_bicyclist', 'majorinjuries_driver', 'minorinjuries_driver',\n",
       "       'fatal_driver', 'majorinjuries_pedestrian', 'minorinjuries_pedestrian',\n",
       "       'fatal_pedestrian', 'total_vehicles', 'total_bicycles',\n",
       "       'total_pedestrians', 'pedestriansimpaired', 'bicyclistsimpaired',\n",
       "       'driversimpaired', 'total_taxis', 'total_government',\n",
       "       'speeding_involved', 'offintersection', 'intapproachdirection',\n",
       "       'ward_number', 'date_r', 'fatal', 'injuries_any', 'day_of_week',\n",
       "       'ped_inj_or_fatal', 'driver_inj_or_fatal', 'bike_inj_or_fatal'],\n",
       "      dtype='object')"
      ]
     },
     "execution_count": 73,
     "metadata": {},
     "output_type": "execute_result"
    }
   ],
   "source": [
    "df.columns"
   ]
  },
  {
   "cell_type": "markdown",
   "metadata": {},
   "source": [
    "I am pulling in the features that are most likely to successfully predict major injuries and fatalities from the crash data.  I'm selecting either my engineered features or features that came with the original dataset, but taking care to not include non-independent features.\n",
    "\n",
    "In this pass I try to predict if there are any injuries in a crash."
   ]
  },
  {
   "cell_type": "code",
   "execution_count": 74,
   "metadata": {},
   "outputs": [],
   "source": [
    "#'speeding_involved','total_pedestrians','total_bicycles',\n",
    "# 'total_vehicles','ward_number' (or x and y), and possibly impairment\n",
    "feature_cols = ['speeding_involved','total_pedestrians','total_bicycles',\n",
    "               'total_vehicles','ward_number','x','y', 'bicyclistsimpaired',\n",
    "               'driversimpaired','pedestriansimpaired','offintersection']\n",
    "\n",
    "X = df[feature_cols]\n",
    "y = df['injuries_any']"
   ]
  },
  {
   "cell_type": "code",
   "execution_count": 75,
   "metadata": {},
   "outputs": [],
   "source": [
    "X_train, X_test, y_train, y_test = train_test_split(X, y, test_size=.2, random_state=42)"
   ]
  },
  {
   "cell_type": "code",
   "execution_count": 76,
   "metadata": {},
   "outputs": [
    {
     "name": "stdout",
     "output_type": "stream",
     "text": [
      "(106255, 11) (106255,)\n",
      "speeding_involved      float64\n",
      "total_pedestrians      float64\n",
      "total_bicycles           int64\n",
      "total_vehicles         float64\n",
      "ward_number            float64\n",
      "x                      float64\n",
      "y                      float64\n",
      "bicyclistsimpaired       int64\n",
      "driversimpaired          int64\n",
      "pedestriansimpaired      int64\n",
      "offintersection        float64\n",
      "dtype: object\n"
     ]
    }
   ],
   "source": [
    "print(X_train.shape, y_train.shape)\n",
    "y_train.describe()\n",
    "print(X_train.dtypes)"
   ]
  },
  {
   "cell_type": "markdown",
   "metadata": {},
   "source": [
    "The confusion matrix shows that my ability to identify the Major Injuries/Death status is okay, but my non-major crashes are less likely to be accurately predicted.  "
   ]
  },
  {
   "cell_type": "code",
   "execution_count": 77,
   "metadata": {},
   "outputs": [
    {
     "data": {
      "text/html": [
       "<div>\n",
       "<style scoped>\n",
       "    .dataframe tbody tr th:only-of-type {\n",
       "        vertical-align: middle;\n",
       "    }\n",
       "\n",
       "    .dataframe tbody tr th {\n",
       "        vertical-align: top;\n",
       "    }\n",
       "\n",
       "    .dataframe thead th {\n",
       "        text-align: right;\n",
       "    }\n",
       "</style>\n",
       "<table border=\"1\" class=\"dataframe\">\n",
       "  <thead>\n",
       "    <tr style=\"text-align: right;\">\n",
       "      <th>Predicted Status</th>\n",
       "      <th>0</th>\n",
       "      <th>1</th>\n",
       "    </tr>\n",
       "    <tr>\n",
       "      <th>Actual Status</th>\n",
       "      <th></th>\n",
       "      <th></th>\n",
       "    </tr>\n",
       "  </thead>\n",
       "  <tbody>\n",
       "    <tr>\n",
       "      <th>0</th>\n",
       "      <td>17950</td>\n",
       "      <td>1936</td>\n",
       "    </tr>\n",
       "    <tr>\n",
       "      <th>1</th>\n",
       "      <td>5133</td>\n",
       "      <td>1545</td>\n",
       "    </tr>\n",
       "  </tbody>\n",
       "</table>\n",
       "</div>"
      ],
      "text/plain": [
       "Predicted Status      0     1\n",
       "Actual Status                \n",
       "0                 17950  1936\n",
       "1                  5133  1545"
      ]
     },
     "execution_count": 77,
     "metadata": {},
     "output_type": "execute_result"
    }
   ],
   "source": [
    "rfc = RandomForestClassifier(n_estimators=100)\n",
    "rfc.fit(X_train, y_train)\n",
    "predictions = rfc.predict(X_test)\n",
    "\n",
    "pd.crosstab(y_test, predictions, rownames=['Actual Status'], colnames=['Predicted Status'])"
   ]
  },
  {
   "cell_type": "markdown",
   "metadata": {},
   "source": [
    "The most significant feature in the model is 'offintersection', which is the distance to the nearest intersection.  The coordinates of the crash are the only other somewhat significant indicators of outcomes, the rest of the features playing very minor roles."
   ]
  },
  {
   "cell_type": "code",
   "execution_count": 78,
   "metadata": {},
   "outputs": [
    {
     "data": {
      "text/plain": [
       "[('speeding_involved', 0.027338377488880353),\n",
       " ('total_pedestrians', 0.03240510149153801),\n",
       " ('total_bicycles', 0.01540012958475491),\n",
       " ('total_vehicles', 0.02839342515304969),\n",
       " ('ward_number', 0.01193359945514013),\n",
       " ('x', 0.275480909977454),\n",
       " ('y', 0.2835394422331898),\n",
       " ('bicyclistsimpaired', 8.071094916361249e-05),\n",
       " ('driversimpaired', 0.0026086121197870836),\n",
       " ('pedestriansimpaired', 0.00038846409254070956),\n",
       " ('offintersection', 0.3224312274545019)]"
      ]
     },
     "execution_count": 78,
     "metadata": {},
     "output_type": "execute_result"
    }
   ],
   "source": [
    "list(zip(X_train, rfc.feature_importances_))\n"
   ]
  },
  {
   "cell_type": "code",
   "execution_count": 79,
   "metadata": {},
   "outputs": [
    {
     "data": {
      "text/plain": [
       "0.7338879686794157"
      ]
     },
     "execution_count": 79,
     "metadata": {},
     "output_type": "execute_result"
    }
   ],
   "source": [
    "rfc.score(X_test, y_test)"
   ]
  },
  {
   "cell_type": "markdown",
   "metadata": {},
   "source": [
    "I ran through a large range of k to identify the best number of regressors.  It tapered off around 50 with only slight improvements through 99."
   ]
  },
  {
   "cell_type": "code",
   "execution_count": 80,
   "metadata": {},
   "outputs": [],
   "source": [
    "# What's the best number of regressors?\n",
    "rsq_list = []\n",
    "\n",
    "#for k in range(2, 100):  # super slow...\n",
    "for k = 50:\n",
    "    rfc = RandomForestClassifier(n_estimators=k)\n",
    "    rfc.fit(X_train, y_train)\n",
    "    score = rfc.score(X_test, y_test)\n",
    "    rsq_list.append(score)"
   ]
  },
  {
   "cell_type": "code",
   "execution_count": 81,
   "metadata": {},
   "outputs": [
    {
     "data": {
      "text/plain": [
       "[<matplotlib.lines.Line2D at 0x1a1b222898>]"
      ]
     },
     "execution_count": 81,
     "metadata": {},
     "output_type": "execute_result"
    },
    {
     "data": {
      "image/png": "[encoded data removed]",
      "text/plain": [
       "<Figure size 432x288 with 1 Axes>"
      ]
     },
     "metadata": {},
     "output_type": "display_data"
    }
   ],
   "source": [
    "plt.plot(rsq_list)"
   ]
  },
  {
   "cell_type": "code",
   "execution_count": 82,
   "metadata": {},
   "outputs": [
    {
     "data": {
      "text/plain": [
       "[('speeding_involved', 0.027277156689080432),\n",
       " ('total_pedestrians', 0.03276658733160726),\n",
       " ('total_bicycles', 0.015743127187417223),\n",
       " ('total_vehicles', 0.027666230375658407),\n",
       " ('ward_number', 0.012274605477893193),\n",
       " ('x', 0.27551179909800244),\n",
       " ('y', 0.2827456373646112),\n",
       " ('bicyclistsimpaired', 7.150212222556042e-05),\n",
       " ('driversimpaired', 0.0025219317130516085),\n",
       " ('pedestriansimpaired', 0.00034430457620306977),\n",
       " ('offintersection', 0.3230771180642495)]"
      ]
     },
     "execution_count": 82,
     "metadata": {},
     "output_type": "execute_result"
    }
   ],
   "source": [
    "list(zip(X_train, rfc.feature_importances_))"
   ]
  },
  {
   "cell_type": "code",
   "execution_count": 83,
   "metadata": {},
   "outputs": [
    {
     "data": {
      "text/plain": [
       "0.7358455051950008"
      ]
     },
     "execution_count": 83,
     "metadata": {},
     "output_type": "execute_result"
    }
   ],
   "source": [
    "max(rsq_list)"
   ]
  },
  {
   "cell_type": "markdown",
   "metadata": {},
   "source": [
    "### Random Forest to predict major injuries or fatalities (vs minor injuries and no injuries)\n",
    "Here I try to predict the major injuries and fatalities among the crash data.  I'll update my dataframe to include a field for major_fatal, to use as labels. "
   ]
  },
  {
   "cell_type": "code",
   "execution_count": 84,
   "metadata": {},
   "outputs": [
    {
     "data": {
      "text/plain": [
       "12312"
      ]
     },
     "execution_count": 84,
     "metadata": {},
     "output_type": "execute_result"
    }
   ],
   "source": [
    "df.columns\n",
    "df['major_fatal'] = 0\n",
    "df.loc[((df.majorinjuries_bicyclist>0) | (df.fatal_bicyclist>0) | \n",
    "        (df.majorinjuries_driver>0) | (df.fatal_driver>0) | \n",
    "        (df.majorinjuries_pedestrian>0) | (df.fatal_pedestrian>0)), 'major_fatal'] = 1\n",
    "\n",
    "df.major_fatal.sum()"
   ]
  },
  {
   "cell_type": "code",
   "execution_count": 85,
   "metadata": {},
   "outputs": [],
   "source": [
    "feature_cols = ['speeding_involved','total_pedestrians','total_bicycles',\n",
    "               'total_vehicles','ward_number','x','y', 'bicyclistsimpaired',\n",
    "               'driversimpaired','pedestriansimpaired','offintersection']\n",
    "\n",
    "X = df[feature_cols]\n",
    "y = df['major_fatal']\n",
    "\n",
    "X_train, X_test, y_train, y_test = train_test_split(X, y, test_size=.2, random_state=42)"
   ]
  },
  {
   "cell_type": "code",
   "execution_count": 86,
   "metadata": {},
   "outputs": [
    {
     "data": {
      "text/html": [
       "<div>\n",
       "<style scoped>\n",
       "    .dataframe tbody tr th:only-of-type {\n",
       "        vertical-align: middle;\n",
       "    }\n",
       "\n",
       "    .dataframe tbody tr th {\n",
       "        vertical-align: top;\n",
       "    }\n",
       "\n",
       "    .dataframe thead th {\n",
       "        text-align: right;\n",
       "    }\n",
       "</style>\n",
       "<table border=\"1\" class=\"dataframe\">\n",
       "  <thead>\n",
       "    <tr style=\"text-align: right;\">\n",
       "      <th>col_0</th>\n",
       "      <th>0</th>\n",
       "      <th>1</th>\n",
       "    </tr>\n",
       "    <tr>\n",
       "      <th>major_fatal</th>\n",
       "      <th></th>\n",
       "      <th></th>\n",
       "    </tr>\n",
       "  </thead>\n",
       "  <tbody>\n",
       "    <tr>\n",
       "      <th>0</th>\n",
       "      <td>23702</td>\n",
       "      <td>441</td>\n",
       "    </tr>\n",
       "    <tr>\n",
       "      <th>1</th>\n",
       "      <td>2338</td>\n",
       "      <td>83</td>\n",
       "    </tr>\n",
       "  </tbody>\n",
       "</table>\n",
       "</div>"
      ],
      "text/plain": [
       "col_0            0    1\n",
       "major_fatal            \n",
       "0            23702  441\n",
       "1             2338   83"
      ]
     },
     "execution_count": 86,
     "metadata": {},
     "output_type": "execute_result"
    }
   ],
   "source": [
    "rfc = RandomForestClassifier(n_estimators=100)\n",
    "rfc.fit(X_train, y_train)\n",
    "predictions = rfc.predict(X_test)\n",
    "pd.crosstab(y_test, predictions)"
   ]
  },
  {
   "cell_type": "markdown",
   "metadata": {},
   "source": [
    "My model score is fairly good.  But don't be fooled by that score--the confusion matrix above clearly demonstrates that my model grossly underpredicts the minority case.  Having a strong model score is meaningless if the minority data cannot be predicted."
   ]
  },
  {
   "cell_type": "code",
   "execution_count": 87,
   "metadata": {},
   "outputs": [
    {
     "data": {
      "text/plain": [
       "0.8953847312151785"
      ]
     },
     "execution_count": 87,
     "metadata": {},
     "output_type": "execute_result"
    }
   ],
   "source": [
    "score = rfc.score(X_test, y_test)\n",
    "score"
   ]
  },
  {
   "cell_type": "code",
   "execution_count": 88,
   "metadata": {},
   "outputs": [
    {
     "data": {
      "text/plain": [
       "[('speeding_involved', 0.013005743723918802),\n",
       " ('total_pedestrians', 0.004303333732336504),\n",
       " ('total_bicycles', 0.002032447870522183),\n",
       " ('total_vehicles', 0.023635768245729324),\n",
       " ('ward_number', 0.013096704476009313),\n",
       " ('x', 0.2929717175871555),\n",
       " ('y', 0.2996872471776221),\n",
       " ('bicyclistsimpaired', 0.0002866732367279225),\n",
       " ('driversimpaired', 0.0015567288491673164),\n",
       " ('pedestriansimpaired', 0.0005152002922958394),\n",
       " ('offintersection', 0.34890843480851536)]"
      ]
     },
     "execution_count": 88,
     "metadata": {},
     "output_type": "execute_result"
    }
   ],
   "source": [
    "list(zip(X_train, rfc.feature_importances_))"
   ]
  },
  {
   "cell_type": "markdown",
   "metadata": {},
   "source": [
    "### Artificial Subsampling\n",
    "\n",
    "We saw that the score above, predicting accidents with major injuries or fatalities, was very good at 0.895.  However, the associated confusion matrix indicates that our model predicted very few of the actual major injury/fatal accidents (86 of 2335), so it was actually not a good model.  Far fewer than the lower-scoring limited feature_columns dataset (score 0.734, but predicting 1543 of 5135 major/fatal accidents).  \n",
    "\n",
    "I'll try to better train the model by upsampling the training set to balance the major/fatal incidences with the non-major/non-fatal accidents.  I'll select random samples from each category and use these as my training data.  I'll also reduce my testing data ratio to 10%, to allow more data on which to train.\n",
    "\n",
    "References: https://elitedatascience.com/imbalanced-classes, "
   ]
  },
  {
   "cell_type": "code",
   "execution_count": 89,
   "metadata": {},
   "outputs": [
    {
     "data": {
      "text/plain": [
       "(120507, 31)"
      ]
     },
     "execution_count": 89,
     "metadata": {},
     "output_type": "execute_result"
    }
   ],
   "source": [
    "df[df.major_fatal == 1].shape[0] / df[df.major_fatal == 0].shape[0]\n",
    "#df.sample()\n",
    "majors = df.loc[df.major_fatal == 1]\n",
    "low_injuries = df.loc[df.major_fatal == 0]\n",
    "low_injuries.shape\n",
    "\n",
    "#majors.sample(11000)\n",
    "#low_injuries.sample(20000)"
   ]
  },
  {
   "cell_type": "markdown",
   "metadata": {},
   "source": [
    "Resize my minority class (major injuries or fatalities) to equal the size of my majority class.  I'll resample with replacement to achieve this, getting 120,507 samples."
   ]
  },
  {
   "cell_type": "code",
   "execution_count": 90,
   "metadata": {},
   "outputs": [],
   "source": [
    "\n",
    "df_majors_upsampled = resample(majors, replace=True, n_samples=120507, random_state=42)\n",
    "df_upsampled = pd.concat([df_majors_upsampled, low_injuries])"
   ]
  },
  {
   "cell_type": "markdown",
   "metadata": {},
   "source": [
    "## Random Forest with Upsampling and Clustering\n",
    "\n",
    "##### Improving results with upsampled minority data (FIXED Upsampling - in progress)\n",
    "\n",
    "Below I re-run the random forest classification model, using the upsampled data (in which major injury/fatal accidents occur as often as the non-injury/minor-injury accidents).  \n",
    "\n",
    "Accuracy scoring is decreased slightly from 0.895 to 0.871, but the confusion matrix is tremendously improved, from 0.98% accuracy non-major and 4% accuracy major/fatal, to 74% accuracy non-major and 95% accuracy major/fatal accidents.\n"
   ]
  },
  {
   "cell_type": "markdown",
   "metadata": {},
   "source": [
    "### K-Means Clustering \n",
    "\n",
    "Add a clustering field to my data.  Use it as another feature in Random Forest and Logistic Classification and KNN Classification."
   ]
  },
  {
   "cell_type": "code",
   "execution_count": 153,
   "metadata": {},
   "outputs": [
    {
     "data": {
      "text/plain": [
       "KMeans(algorithm='auto', copy_x=True, init='k-means++', max_iter=300,\n",
       "    n_clusters=3, n_init=10, n_jobs=1, precompute_distances='auto',\n",
       "    random_state=42, tol=0.0001, verbose=0)"
      ]
     },
     "execution_count": 153,
     "metadata": {},
     "output_type": "execute_result"
    }
   ],
   "source": [
    "# how to add clustering??  And include in features for logistic regression or random forest?\n",
    "from sklearn.cluster import KMeans\n",
    "\n",
    "km = KMeans(n_clusters=3, random_state=42)\n",
    "km.fit(X)"
   ]
  },
  {
   "cell_type": "code",
   "execution_count": 154,
   "metadata": {},
   "outputs": [
    {
     "data": {
      "text/plain": [
       "132819"
      ]
     },
     "execution_count": 154,
     "metadata": {},
     "output_type": "execute_result"
    }
   ],
   "source": [
    "km.labels_\n",
    "len(km.labels_)"
   ]
  },
  {
   "cell_type": "code",
   "execution_count": 155,
   "metadata": {},
   "outputs": [
    {
     "data": {
      "text/plain": [
       "KMeans(algorithm='auto', copy_x=True, init='k-means++', max_iter=300,\n",
       "    n_clusters=3, n_init=10, n_jobs=-2, precompute_distances='auto',\n",
       "    random_state=42, tol=0.0001, verbose=0)"
      ]
     },
     "execution_count": 155,
     "metadata": {},
     "output_type": "execute_result"
    }
   ],
   "source": [
    "km2 = KMeans(n_clusters=3, random_state=42, n_jobs=-2)\n",
    "km2.fit(X)"
   ]
  },
  {
   "cell_type": "code",
   "execution_count": 156,
   "metadata": {},
   "outputs": [
    {
     "data": {
      "text/plain": [
       "array([0, 0, 0, ..., 1, 1, 1], dtype=int32)"
      ]
     },
     "execution_count": 156,
     "metadata": {},
     "output_type": "execute_result"
    }
   ],
   "source": [
    "km2.labels_"
   ]
  },
  {
   "cell_type": "code",
   "execution_count": 164,
   "metadata": {},
   "outputs": [],
   "source": [
    "df['cluster'] = km2.labels_\n",
    "feature_cols.append('cluster')"
   ]
  },
  {
   "cell_type": "markdown",
   "metadata": {},
   "source": [
    "### Random Forest with Clustering and Upsampling"
   ]
  },
  {
   "cell_type": "code",
   "execution_count": 158,
   "metadata": {},
   "outputs": [
    {
     "data": {
      "text/html": [
       "<div>\n",
       "<style scoped>\n",
       "    .dataframe tbody tr th:only-of-type {\n",
       "        vertical-align: middle;\n",
       "    }\n",
       "\n",
       "    .dataframe tbody tr th {\n",
       "        vertical-align: top;\n",
       "    }\n",
       "\n",
       "    .dataframe thead th {\n",
       "        text-align: right;\n",
       "    }\n",
       "</style>\n",
       "<table border=\"1\" class=\"dataframe\">\n",
       "  <thead>\n",
       "    <tr style=\"text-align: right;\">\n",
       "      <th>col_0</th>\n",
       "      <th>0</th>\n",
       "      <th>1</th>\n",
       "    </tr>\n",
       "    <tr>\n",
       "      <th>major_fatal</th>\n",
       "      <th></th>\n",
       "      <th></th>\n",
       "    </tr>\n",
       "  </thead>\n",
       "  <tbody>\n",
       "    <tr>\n",
       "      <th>0</th>\n",
       "      <td>9810</td>\n",
       "      <td>2273</td>\n",
       "    </tr>\n",
       "    <tr>\n",
       "      <th>1</th>\n",
       "      <td>887</td>\n",
       "      <td>312</td>\n",
       "    </tr>\n",
       "  </tbody>\n",
       "</table>\n",
       "</div>"
      ],
      "text/plain": [
       "col_0           0     1\n",
       "major_fatal            \n",
       "0            9810  2273\n",
       "1             887   312"
      ]
     },
     "execution_count": 158,
     "metadata": {},
     "output_type": "execute_result"
    }
   ],
   "source": [
    "X = df[feature_cols]\n",
    "y = df.major_fatal\n",
    "\n",
    "X_train, X_test, y_train, y_test = train_test_split(X, y, test_size=0.1)\n",
    "\n",
    "# combine training sets to upsample\n",
    "training_df = pd.concat([X_train, y_train], axis=1)\n",
    "\n",
    "minority_data = training_df.loc[training_df.major_fatal > 0]\n",
    "majority_data = training_df.loc[training_df.major_fatal == 0]\n",
    "\n",
    "# upsample minority data, then join back with majority\n",
    "minority_data = resample(minority_data, replace=True, n_samples=120507, random_state=42)\n",
    "rf_upsampled = pd.concat([minority_data, majority_data])\n",
    "\n",
    "X_train = rf_upsampled[feature_cols]\n",
    "y_train = rf_upsampled.major_fatal\n",
    "\n",
    "testing_df = pd.concat([X_test, y_test], axis=1)\n",
    "\n",
    "rf_minority_id_rate = []  # since we're iterating over a larger set of k's, keep track...\n",
    "rf_majority_id_rate = []\n",
    "\n",
    "rfc = RandomForestClassifier(n_estimators=100)\n",
    "rfc.fit(X_train, y_train)\n",
    "predictions = rfc.predict(X_test)  # NEW: 312/(312+887) = 312/1199 = 0.2602\n",
    "print(rfc.score(X_test, y_test) # without clustering: 0.755  WITH Clustering: 0.762)\n",
    "pd.crosstab(y_test, predictions)  # OLD: 311/(946+311) = 311/1257 = 0.2474"
   ]
  },
  {
   "cell_type": "code",
   "execution_count": 198,
   "metadata": {},
   "outputs": [
    {
     "name": "stdout",
     "output_type": "stream",
     "text": [
      "k = 2\n",
      "score: \n",
      "0.7613311248305978\n",
      "col_0           0     1\n",
      "major_fatal            \n",
      "0            9796  2258\n",
      "1             912   316\n",
      "\n",
      "k = 3\n",
      "score: \n",
      "0.749887065201024\n",
      "col_0           0     1\n",
      "major_fatal            \n",
      "0            9662  2370\n",
      "1             952   298\n",
      "\n",
      "k = 4\n",
      "score: \n",
      "0.7574913416654119\n",
      "col_0           0     1\n",
      "major_fatal            \n",
      "0            9734  2307\n",
      "1             914   327\n",
      "\n",
      "k = 5\n",
      "score: \n",
      "0.7531998193043217\n",
      "col_0           0     1\n",
      "major_fatal            \n",
      "0            9705  2376\n",
      "1             902   299\n",
      "\n",
      "k = 6\n",
      "score: \n",
      "0.7584701099232043\n",
      "col_0           0     1\n",
      "major_fatal            \n",
      "0            9738  2320\n",
      "1             888   336\n",
      "\n",
      "k = 7\n",
      "score: \n",
      "0.7554585152838428\n",
      "col_0           0     1\n",
      "major_fatal            \n",
      "0            9746  2322\n",
      "1             926   288\n",
      "\n",
      "k = 8\n",
      "score: \n",
      "0.7568890227375396\n",
      "col_0           0     1\n",
      "major_fatal            \n",
      "0            9710  2335\n",
      "1             894   343\n",
      "\n",
      "k = 9\n",
      "score: \n",
      "0.7495859057370878\n",
      "col_0           0     1\n",
      "major_fatal            \n",
      "0            9646  2400\n",
      "1             926   310\n",
      "\n",
      "k = 10\n",
      "score: \n",
      "0.7469507604276464\n",
      "col_0           0     1\n",
      "major_fatal            \n",
      "0            9662  2434\n",
      "1             927   259\n",
      "\n",
      "k = 11\n",
      "score: \n",
      "0.7504140942629122\n",
      "col_0           0     1\n",
      "major_fatal            \n",
      "0            9631  2425\n",
      "1             890   336\n",
      "\n",
      "k = 12\n",
      "score: \n",
      "0.7568890227375396\n",
      "col_0           0     1\n",
      "major_fatal            \n",
      "0            9728  2331\n",
      "1             898   325\n",
      "\n",
      "k = 13\n",
      "score: \n",
      "0.7475530793555187\n",
      "col_0           0     1\n",
      "major_fatal            \n",
      "0            9631  2405\n",
      "1             948   298\n",
      "\n",
      "CPU times: user 6min 13s, sys: 7.44 s, total: 6min 21s\n",
      "Wall time: 6min 24s\n"
     ]
    }
   ],
   "source": [
    "%%time\n",
    "# Looping over various clusters and 50 n_estimators\n",
    "while 'cluster' in feature_cols:\n",
    "    feature_cols.remove('cluster')\n",
    "    #print('removing cluster from feature cols')\n",
    "    \n",
    "for k in range(2,14):\n",
    "    while 'cluster' in feature_cols:\n",
    "        feature_cols.remove('cluster')\n",
    "    #print(feature_cols)    \n",
    "    print('k = {}'.format(k))\n",
    "    km = KMeans(n_clusters=k, random_state=42, n_jobs=-2)\n",
    "    km.fit(X)\n",
    "    df['cluster'] = km.labels_\n",
    "    feature_cols.append('cluster')\n",
    "    #print(feature_cols)\n",
    "    \n",
    "    X = df[feature_cols]\n",
    "    y = df.major_fatal\n",
    "\n",
    "    X_train, X_test, y_train, y_test = train_test_split(X, y, test_size=0.1)\n",
    "    #print('shape of X_train: ', str(X_train.shape))\n",
    "    #print('shape of X_test: ', str(X_test.shape))    \n",
    "\n",
    "    # combine training sets to upsample\n",
    "    training_df = pd.concat([X_train, y_train], axis=1)\n",
    "\n",
    "    minority_data = training_df.loc[training_df.major_fatal > 0]\n",
    "    majority_data = training_df.loc[training_df.major_fatal == 0]\n",
    "    #print('shape of minority data: ', str(minority_data.shape))\n",
    "\n",
    "    # upsample minority data, then join back with majority\n",
    "    minority_data = resample(minority_data, replace=True, n_samples=120507, random_state=42)\n",
    "    rf_upsampled = pd.concat([minority_data, majority_data], axis=0)\n",
    "    #print('rf_upsampled shape: ', str(rf_upsampled.shape))\n",
    "    \n",
    "    X_train = rf_upsampled[feature_cols]\n",
    "    y_train = rf_upsampled.major_fatal\n",
    "    #print('X_train shape after upsampling: ', str(X_train.shape))\n",
    "\n",
    "    testing_df = pd.concat([X_test, y_test], axis=1)\n",
    "    #print('testing df shape: ', str(testing_df.shape))\n",
    "\n",
    "    rfc = RandomForestClassifier(n_estimators=100)\n",
    "    rfc.fit(X_train, y_train)\n",
    "    #print('Predicting on X_test, shape ', str(X_test.shape))\n",
    "    predictions = rfc.predict(X_test)  # NEW: 312/(312+887) = 312/1199 = 0.2602\n",
    "    print('score: ')\n",
    "    print(rfc.score(X_test, y_test)) # without clustering: 0.755  WITH Clustering: 0.762)\n",
    "    crosstab = pd.crosstab(y_test, predictions)  # OLD: 311/(946+311) = 311/1257 = 0.2474\n",
    "    print(crosstab)\n",
    "    \n",
    "    print()"
   ]
  },
  {
   "cell_type": "code",
   "execution_count": null,
   "metadata": {},
   "outputs": [],
   "source": []
  },
  {
   "cell_type": "markdown",
   "metadata": {},
   "source": [
    "### Logistic Regression (now with clusters) - much worse\n",
    "\n",
    "I'll also attempt a classification using logistic regression.  I'll use the same up-sampled data from above and compare the scores.  As I feared, the score is quite weak, even with an upsampled minority class.  I do not recommend the Logistic Regression Model for this exercise.\n",
    "\n",
    "Features:  feature_cols = ['speeding_involved','total_pedestrians','total_bicycles',\n",
    "               'total_vehicles','ward_number','x','y', 'bicyclistsimpaired',\n",
    "               'driversimpaired','pedestriansimpaired','offintersection']"
   ]
  },
  {
   "cell_type": "code",
   "execution_count": 175,
   "metadata": {},
   "outputs": [
    {
     "name": "stdout",
     "output_type": "stream",
     "text": [
      "['speeding_involved', 'total_pedestrians', 'total_bicycles', 'total_vehicles', 'ward_number', 'x', 'y', 'bicyclistsimpaired', 'driversimpaired', 'pedestriansimpaired', 'offintersection']\n"
     ]
    }
   ],
   "source": [
    "print(feature_cols)"
   ]
  },
  {
   "cell_type": "code",
   "execution_count": 176,
   "metadata": {},
   "outputs": [
    {
     "name": "stdout",
     "output_type": "stream",
     "text": [
      "Index(['speeding_involved', 'total_pedestrians', 'total_bicycles',\n",
      "       'total_vehicles', 'ward_number', 'x', 'y', 'bicyclistsimpaired',\n",
      "       'driversimpaired', 'pedestriansimpaired', 'offintersection', 'cluster'],\n",
      "      dtype='object')\n"
     ]
    }
   ],
   "source": [
    "print(X_train.columns)"
   ]
  },
  {
   "cell_type": "code",
   "execution_count": 160,
   "metadata": {},
   "outputs": [
    {
     "data": {
      "text/plain": [
       "0.40377955127239873"
      ]
     },
     "execution_count": 160,
     "metadata": {},
     "output_type": "execute_result"
    }
   ],
   "source": [
    "lr = LogisticRegression()\n",
    "lr.fit(X_train, y_train)\n",
    "predictions = lr.predict(X_test)\n",
    "lr.score(X_test, y_test)\n"
   ]
  },
  {
   "cell_type": "code",
   "execution_count": 167,
   "metadata": {},
   "outputs": [
    {
     "data": {
      "text/plain": [
       "0.40377955127239873"
      ]
     },
     "execution_count": 167,
     "metadata": {},
     "output_type": "execute_result"
    }
   ],
   "source": [
    "# Without cluster:\n",
    "if 'cluster' in feature_cols:\n",
    "    print ('its in there')\n",
    "    feature_cols.pop()\n",
    "\n",
    "lr = LogisticRegression()\n",
    "lr.fit(X_train, y_train)\n",
    "predictions = lr.predict(X_test)\n",
    "lr.score(X_test, y_test)\n"
   ]
  },
  {
   "cell_type": "code",
   "execution_count": 171,
   "metadata": {},
   "outputs": [
    {
     "name": "stdout",
     "output_type": "stream",
     "text": [
      "8.56 s ± 241 ms per loop (mean ± std. dev. of 7 runs, 1 loop each)\n"
     ]
    }
   ],
   "source": [
    "%%timeit\n",
    "kfold = model_selection.KFold(n_splits=10, random_state=42)\n",
    "model = LogisticRegression()\n",
    "result = model_selection.cross_val_score(model, X_train, y_train, cv=kfold, scoring='accuracy')\n",
    "result.mean()"
   ]
  },
  {
   "cell_type": "code",
   "execution_count": 172,
   "metadata": {},
   "outputs": [
    {
     "name": "stdout",
     "output_type": "stream",
     "text": [
      "[0.27771469 0.27244136 0.27567379 0.27929935 0.27340235 0.34442843\n",
      " 0.0478749  0.05241777 0.05184991 0.04949111]\n"
     ]
    },
    {
     "data": {
      "text/plain": [
       "0.19245936437039673"
      ]
     },
     "execution_count": 172,
     "metadata": {},
     "output_type": "execute_result"
    }
   ],
   "source": [
    "print(result)\n",
    "result.mean()"
   ]
  },
  {
   "cell_type": "code",
   "execution_count": 173,
   "metadata": {},
   "outputs": [
    {
     "data": {
      "text/html": [
       "<div>\n",
       "<style scoped>\n",
       "    .dataframe tbody tr th:only-of-type {\n",
       "        vertical-align: middle;\n",
       "    }\n",
       "\n",
       "    .dataframe tbody tr th {\n",
       "        vertical-align: top;\n",
       "    }\n",
       "\n",
       "    .dataframe thead th {\n",
       "        text-align: right;\n",
       "    }\n",
       "</style>\n",
       "<table border=\"1\" class=\"dataframe\">\n",
       "  <thead>\n",
       "    <tr style=\"text-align: right;\">\n",
       "      <th>col_0</th>\n",
       "      <th>0</th>\n",
       "      <th>1</th>\n",
       "    </tr>\n",
       "    <tr>\n",
       "      <th>major_fatal</th>\n",
       "      <th></th>\n",
       "      <th></th>\n",
       "    </tr>\n",
       "  </thead>\n",
       "  <tbody>\n",
       "    <tr>\n",
       "      <th>0</th>\n",
       "      <td>4497</td>\n",
       "      <td>7586</td>\n",
       "    </tr>\n",
       "    <tr>\n",
       "      <th>1</th>\n",
       "      <td>333</td>\n",
       "      <td>866</td>\n",
       "    </tr>\n",
       "  </tbody>\n",
       "</table>\n",
       "</div>"
      ],
      "text/plain": [
       "col_0           0     1\n",
       "major_fatal            \n",
       "0            4497  7586\n",
       "1             333   866"
      ]
     },
     "execution_count": 173,
     "metadata": {},
     "output_type": "execute_result"
    }
   ],
   "source": [
    "pd.crosstab(y_test, predictions)  # 866/(866+333) = 866/1199 = 0.7223"
   ]
  },
  {
   "cell_type": "code",
   "execution_count": 174,
   "metadata": {},
   "outputs": [
    {
     "data": {
      "text/plain": [
       "(13282, 12)"
      ]
     },
     "execution_count": 174,
     "metadata": {},
     "output_type": "execute_result"
    }
   ],
   "source": [
    "X_test.shape"
   ]
  },
  {
   "cell_type": "markdown",
   "metadata": {},
   "source": [
    "### Logistic Regression with Clusters AND Upsampling"
   ]
  },
  {
   "cell_type": "code",
   "execution_count": 177,
   "metadata": {},
   "outputs": [
    {
     "data": {
      "text/plain": [
       "0.4169552778196055"
      ]
     },
     "execution_count": 177,
     "metadata": {},
     "output_type": "execute_result"
    }
   ],
   "source": [
    "if not 'cluster' in feature_cols:\n",
    "    feature_cols.append('cluster')\n",
    "\n",
    "X = df[feature_cols]\n",
    "y = df.major_fatal\n",
    "\n",
    "X_train, X_test, y_train, y_test = train_test_split(X, y, test_size=0.1, random_state=42)\n",
    "training_df = pd.concat([X_train, y_train], axis=1)\n",
    "\n",
    "minority_data = training_df.loc[training_df.major_fatal > 0]\n",
    "majority_data = training_df.loc[training_df.major_fatal == 0]\n",
    "\n",
    "minority_data = resample(minority_data, replace=True, n_samples=120507, random_state=42)\n",
    "knn_upsampled = pd.concat([minority_data, majority_data])\n",
    "\n",
    "X_train = knn_upsampled[feature_cols]\n",
    "y_train = knn_upsampled.major_fatal\n",
    "\n",
    "testing_df = pd.concat([X_test, y_test], axis=1)\n",
    "\n",
    "lr = LogisticRegression()\n",
    "lr.fit(X_train, y_train)\n",
    "predictions = lr.predict(X_test)\n",
    "lr.score(X_test, y_test)"
   ]
  },
  {
   "cell_type": "code",
   "execution_count": 178,
   "metadata": {},
   "outputs": [
    {
     "name": "stdout",
     "output_type": "stream",
     "text": [
      "[0.28004193 0.27820731 0.27750841 0.27729    0.27956144 0.3506312\n",
      " 0.05451448 0.05106364 0.05180623 0.05062904]\n"
     ]
    },
    {
     "data": {
      "text/plain": [
       "0.1951253685800931"
      ]
     },
     "execution_count": 178,
     "metadata": {},
     "output_type": "execute_result"
    }
   ],
   "source": [
    "kfold = model_selection.KFold(n_splits=10, random_state=42)\n",
    "model = LogisticRegression()\n",
    "result = model_selection.cross_val_score(model, X_train, y_train, cv=kfold, scoring='accuracy')\n",
    "print(result)\n",
    "result.mean()"
   ]
  },
  {
   "cell_type": "code",
   "execution_count": 179,
   "metadata": {},
   "outputs": [
    {
     "data": {
      "text/html": [
       "<div>\n",
       "<style scoped>\n",
       "    .dataframe tbody tr th:only-of-type {\n",
       "        vertical-align: middle;\n",
       "    }\n",
       "\n",
       "    .dataframe tbody tr th {\n",
       "        vertical-align: top;\n",
       "    }\n",
       "\n",
       "    .dataframe thead th {\n",
       "        text-align: right;\n",
       "    }\n",
       "</style>\n",
       "<table border=\"1\" class=\"dataframe\">\n",
       "  <thead>\n",
       "    <tr style=\"text-align: right;\">\n",
       "      <th>col_0</th>\n",
       "      <th>0</th>\n",
       "      <th>1</th>\n",
       "    </tr>\n",
       "    <tr>\n",
       "      <th>major_fatal</th>\n",
       "      <th></th>\n",
       "      <th></th>\n",
       "    </tr>\n",
       "  </thead>\n",
       "  <tbody>\n",
       "    <tr>\n",
       "      <th>0</th>\n",
       "      <td>4717</td>\n",
       "      <td>7368</td>\n",
       "    </tr>\n",
       "    <tr>\n",
       "      <th>1</th>\n",
       "      <td>376</td>\n",
       "      <td>821</td>\n",
       "    </tr>\n",
       "  </tbody>\n",
       "</table>\n",
       "</div>"
      ],
      "text/plain": [
       "col_0           0     1\n",
       "major_fatal            \n",
       "0            4717  7368\n",
       "1             376   821"
      ]
     },
     "execution_count": 179,
     "metadata": {},
     "output_type": "execute_result"
    }
   ],
   "source": [
    "pd.crosstab(y_test, predictions)  # 866/(866+333) = 866/1199 = 0.7223"
   ]
  },
  {
   "cell_type": "markdown",
   "metadata": {},
   "source": [
    "### KNN Classification\n",
    "\n",
    "Since it is plausible that serious accidents occur frequently in the most dangerous street segments and intersections, I'll attempt a KNN Classification model to determine if I can predict major injuries or fatalities.\n",
    "\n",
    "Note, I'll use KNN without the upsampling used in other models."
   ]
  },
  {
   "cell_type": "code",
   "execution_count": 100,
   "metadata": {},
   "outputs": [
    {
     "name": "stdout",
     "output_type": "stream",
     "text": [
      "Best score of 0.910179189881042 first identified at k=17\n"
     ]
    }
   ],
   "source": [
    "from sklearn.neighbors import KNeighborsClassifier\n",
    "from sklearn import metrics\n",
    "\n",
    "X = df[feature_cols]\n",
    "y = df.major_fatal\n",
    "\n",
    "X_train, X_test, y_train, y_test = train_test_split(X, y, test_size=0.1, random_state=42)\n",
    "knn_scores = []\n",
    "scoremax = 0\n",
    "kmax = 0\n",
    "\n",
    "for k in range(1,41):\n",
    "    knn = KNeighborsClassifier(n_neighbors=k)\n",
    "    knn.fit(X_train, y_train)\n",
    "    score = knn.score(X_test, y_test)\n",
    "    knn_scores.append((k, score))\n",
    "    if score > scoremax:\n",
    "        scoremax = score\n",
    "        kmax = k\n",
    "\n",
    "print('Best score of {} first identified at k={}'.format(scoremax, kmax))"
   ]
  },
  {
   "cell_type": "markdown",
   "metadata": {},
   "source": [
    "The best score I got was 0.91.  Superficially this model looks promising, but we must ensure that the minority values are accurately classified before we have confidence in the score.  \n",
    "\n",
    "The following confusion matrix shows a sensitivity of less than 1%, so this is in fact a terrible predictive model of major injuries or fatalities."
   ]
  },
  {
   "cell_type": "code",
   "execution_count": 101,
   "metadata": {},
   "outputs": [
    {
     "data": {
      "image/png": "[encoded data removed]",
      "text/plain": [
       "<Figure size 432x288 with 1 Axes>"
      ]
     },
     "metadata": {},
     "output_type": "display_data"
    }
   ],
   "source": [
    "#plt.plot(x=knn_scores.keys, y=knn_scores[knn_scores.keys])\n",
    "x_vals = [x[0] for x in knn_scores]\n",
    "y_vals = [y[1] for y in knn_scores]\n",
    "\n",
    "plt.ylim((0.8,0.95))\n",
    "plt.plot(x_vals, y_vals, )\n",
    "plt.show()"
   ]
  },
  {
   "cell_type": "code",
   "execution_count": 102,
   "metadata": {},
   "outputs": [],
   "source": [
    "knn = KNeighborsClassifier(n_neighbors=kmax)\n",
    "knn.fit(X_train, y_train)\n",
    "df_knn = df.copy(deep=True)\n",
    "df_knn['y_predictions'] = knn.predict(df_knn[feature_cols])"
   ]
  },
  {
   "cell_type": "code",
   "execution_count": 103,
   "metadata": {},
   "outputs": [
    {
     "data": {
      "text/html": [
       "<div>\n",
       "<style scoped>\n",
       "    .dataframe tbody tr th:only-of-type {\n",
       "        vertical-align: middle;\n",
       "    }\n",
       "\n",
       "    .dataframe tbody tr th {\n",
       "        vertical-align: top;\n",
       "    }\n",
       "\n",
       "    .dataframe thead th {\n",
       "        text-align: right;\n",
       "    }\n",
       "</style>\n",
       "<table border=\"1\" class=\"dataframe\">\n",
       "  <thead>\n",
       "    <tr style=\"text-align: right;\">\n",
       "      <th>y_predictions</th>\n",
       "      <th>0</th>\n",
       "      <th>1</th>\n",
       "    </tr>\n",
       "    <tr>\n",
       "      <th>major_fatal</th>\n",
       "      <th></th>\n",
       "      <th></th>\n",
       "    </tr>\n",
       "  </thead>\n",
       "  <tbody>\n",
       "    <tr>\n",
       "      <th>0</th>\n",
       "      <td>120486</td>\n",
       "      <td>21</td>\n",
       "    </tr>\n",
       "    <tr>\n",
       "      <th>1</th>\n",
       "      <td>12284</td>\n",
       "      <td>28</td>\n",
       "    </tr>\n",
       "  </tbody>\n",
       "</table>\n",
       "</div>"
      ],
      "text/plain": [
       "y_predictions       0   1\n",
       "major_fatal              \n",
       "0              120486  21\n",
       "1               12284  28"
      ]
     },
     "execution_count": 103,
     "metadata": {},
     "output_type": "execute_result"
    }
   ],
   "source": [
    "pd.crosstab(df_knn.major_fatal, df_knn.y_predictions)"
   ]
  },
  {
   "cell_type": "markdown",
   "metadata": {},
   "source": [
    "### KNN Classification with Upsampling (FIXED Upsampling!)\n",
    "\n",
    "With upsampled minority data, I still have a poor classifier using KNN Classification, however the minority data prediction (for major injuries or fatalities) significantly improves.  The overall accuracy score declines to 69% accuracy, with minority True Positive (sensitivity) rate of 86%, but a much weaker majority sensitivity of 59%.\n",
    "\n",
    "In general, KNN Classification is not a useful model in this case."
   ]
  },
  {
   "cell_type": "code",
   "execution_count": 108,
   "metadata": {},
   "outputs": [
    {
     "data": {
      "text/plain": [
       "Index(['x', 'y', 'majorinjuries_bicyclist', 'minorinjuries_bicyclist',\n",
       "       'fatal_bicyclist', 'majorinjuries_driver', 'minorinjuries_driver',\n",
       "       'fatal_driver', 'majorinjuries_pedestrian', 'minorinjuries_pedestrian',\n",
       "       'fatal_pedestrian', 'total_vehicles', 'total_bicycles',\n",
       "       'total_pedestrians', 'pedestriansimpaired', 'bicyclistsimpaired',\n",
       "       'driversimpaired', 'total_taxis', 'total_government',\n",
       "       'speeding_involved', 'offintersection', 'intapproachdirection',\n",
       "       'ward_number', 'date_r', 'fatal', 'injuries_any', 'day_of_week',\n",
       "       'ped_inj_or_fatal', 'driver_inj_or_fatal', 'bike_inj_or_fatal',\n",
       "       'major_fatal'],\n",
       "      dtype='object')"
      ]
     },
     "execution_count": 108,
     "metadata": {},
     "output_type": "execute_result"
    }
   ],
   "source": [
    "df.columns\n",
    "#feature_cols"
   ]
  },
  {
   "cell_type": "markdown",
   "metadata": {},
   "source": [
    "# The Gold KNN Classification w Upsampling"
   ]
  },
  {
   "cell_type": "code",
   "execution_count": 141,
   "metadata": {},
   "outputs": [
    {
     "name": "stdout",
     "output_type": "stream",
     "text": [
      "\n",
      "for k=2, knn.score =0.7830898960999849\n",
      "y_predictions      0     1\n",
      "major_fatal               \n",
      "0              10170  1915\n",
      "1                966   231\n",
      "Total Minority True Positive Rate: 0.19298245614035087\n",
      "Minority Fraction: 0.09012196958289415\n",
      "True Majority Recall Rate: 0.8415390980554406\n",
      "\n",
      "for k=3, knn.score =0.6950007528986598\n",
      "y_predictions     0     1\n",
      "major_fatal              \n",
      "0              8843  3242\n",
      "1               809   388\n",
      "Total Minority True Positive Rate: 0.3241436925647452\n",
      "Minority Fraction: 0.09012196958289415\n",
      "True Majority Recall Rate: 0.7317335539925528\n",
      "\n",
      "for k=4, knn.score =0.7169101039000151\n",
      "y_predictions     0     1\n",
      "major_fatal              \n",
      "0              9176  2909\n",
      "1               851   346\n",
      "Total Minority True Positive Rate: 0.28905597326649957\n",
      "Minority Fraction: 0.09012196958289415\n",
      "True Majority Recall Rate: 0.7592883740173769\n",
      "\n",
      "for k=5, knn.score =0.6486221954524921\n",
      "y_predictions     0     1\n",
      "major_fatal              \n",
      "0              8161  3924\n",
      "1               743   454\n",
      "Total Minority True Positive Rate: 0.379281537176274\n",
      "Minority Fraction: 0.09012196958289415\n",
      "True Majority Recall Rate: 0.6752999586263964\n",
      "\n",
      "for k=6, knn.score =0.6727149525673844\n",
      "y_predictions     0     1\n",
      "major_fatal              \n",
      "0              8517  3568\n",
      "1               779   418\n",
      "Total Minority True Positive Rate: 0.3492063492063492\n",
      "Minority Fraction: 0.09012196958289415\n",
      "True Majority Recall Rate: 0.7047579644187009\n",
      "\n",
      "for k=7, knn.score =0.6163228429453396\n",
      "y_predictions     0     1\n",
      "major_fatal              \n",
      "0              7668  4417\n",
      "1               679   518\n",
      "Total Minority True Positive Rate: 0.4327485380116959\n",
      "Minority Fraction: 0.09012196958289415\n",
      "True Majority Recall Rate: 0.6345055854364915\n",
      "\n",
      "for k=8, knn.score =0.6321337148019877\n",
      "y_predictions     0     1\n",
      "major_fatal              \n",
      "0              7897  4188\n",
      "1               698   499\n",
      "Total Minority True Positive Rate: 0.41687552213868\n",
      "Minority Fraction: 0.09012196958289415\n",
      "True Majority Recall Rate: 0.6534546959040133\n",
      "\n",
      "for k=9, knn.score =0.5845505195000753\n",
      "y_predictions     0     1\n",
      "major_fatal              \n",
      "0              7175  4910\n",
      "1               608   589\n",
      "Total Minority True Positive Rate: 0.49206349206349204\n",
      "Minority Fraction: 0.09012196958289415\n",
      "True Majority Recall Rate: 0.5937112122465866\n",
      "\n",
      "for k=10, knn.score =0.6024695076042764\n",
      "y_predictions     0     1\n",
      "major_fatal              \n",
      "0              7448  4637\n",
      "1               643   554\n",
      "Total Minority True Positive Rate: 0.4628237259816207\n",
      "Minority Fraction: 0.09012196958289415\n",
      "True Majority Recall Rate: 0.6163011998345056\n",
      "\n",
      "for k=11, knn.score =0.5584249360036139\n",
      "y_predictions     0     1\n",
      "major_fatal              \n",
      "0              6795  5290\n",
      "1               575   622\n",
      "Total Minority True Positive Rate: 0.5196324143692564\n",
      "Minority Fraction: 0.09012196958289415\n",
      "True Majority Recall Rate: 0.5622672734795201\n",
      "\n",
      "for k=12, knn.score =0.5770215329016715\n",
      "y_predictions     0     1\n",
      "major_fatal              \n",
      "0              7080  5005\n",
      "1               613   584\n",
      "Total Minority True Positive Rate: 0.4878863826232247\n",
      "Minority Fraction: 0.09012196958289415\n",
      "True Majority Recall Rate: 0.5858502275548201\n",
      "\n",
      "for k=13, knn.score =0.5353862370124981\n",
      "y_predictions     0     1\n",
      "major_fatal              \n",
      "0              6465  5620\n",
      "1               551   646\n",
      "Total Minority True Positive Rate: 0.5396825396825397\n",
      "Minority Fraction: 0.09012196958289415\n",
      "True Majority Recall Rate: 0.5349606950765412\n",
      "\n",
      "for k=14, knn.score =0.5646739948802891\n",
      "y_predictions     0     1\n",
      "major_fatal              \n",
      "0              6877  5208\n",
      "1               574   623\n",
      "Total Minority True Positive Rate: 0.52046783625731\n",
      "Minority Fraction: 0.09012196958289415\n",
      "True Majority Recall Rate: 0.5690525444766239\n",
      "\n",
      "for k=15, knn.score =0.5228128293931636\n",
      "y_predictions     0     1\n",
      "major_fatal              \n",
      "0              6277  5808\n",
      "1               530   667\n",
      "Total Minority True Positive Rate: 0.5572263993316625\n",
      "Minority Fraction: 0.09012196958289415\n",
      "True Majority Recall Rate: 0.5194042201075714\n",
      "\n",
      "for k=16, knn.score =0.5530040656527632\n",
      "y_predictions     0     1\n",
      "major_fatal              \n",
      "0              6719  5366\n",
      "1               571   626\n",
      "Total Minority True Positive Rate: 0.5229741019214703\n",
      "Minority Fraction: 0.09012196958289415\n",
      "True Majority Recall Rate: 0.5559784857261068\n",
      "\n",
      "for k=17, knn.score =0.5197259448878181\n",
      "y_predictions     0     1\n",
      "major_fatal              \n",
      "0              6234  5851\n",
      "1               528   669\n",
      "Total Minority True Positive Rate: 0.5588972431077694\n",
      "Minority Fraction: 0.09012196958289415\n",
      "True Majority Recall Rate: 0.5158460901944559\n",
      "\n",
      "for k=18, knn.score =0.5539075440445717\n",
      "y_predictions     0     1\n",
      "major_fatal              \n",
      "0              6725  5360\n",
      "1               565   632\n",
      "Total Minority True Positive Rate: 0.5279866332497911\n",
      "Minority Fraction: 0.09012196958289415\n",
      "True Majority Recall Rate: 0.5564749689697973\n",
      "\n",
      "for k=19, knn.score =0.5242433368468604\n",
      "y_predictions     0     1\n",
      "major_fatal              \n",
      "0              6290  5795\n",
      "1               524   673\n",
      "Total Minority True Positive Rate: 0.5622389306599833\n",
      "Minority Fraction: 0.09012196958289415\n",
      "True Majority Recall Rate: 0.5204799338022342\n",
      "\n",
      "for k=20, knn.score =0.5538322541785876\n",
      "y_predictions     0     1\n",
      "major_fatal              \n",
      "0              6730  5355\n",
      "1               571   626\n",
      "Total Minority True Positive Rate: 0.5229741019214703\n",
      "Minority Fraction: 0.09012196958289415\n",
      "True Majority Recall Rate: 0.556888705006206\n",
      "\n",
      "for k=21, knn.score =0.5269537720222858\n",
      "y_predictions     0     1\n",
      "major_fatal              \n",
      "0              6332  5753\n",
      "1               530   667\n",
      "Total Minority True Positive Rate: 0.5572263993316625\n",
      "Minority Fraction: 0.09012196958289415\n",
      "True Majority Recall Rate: 0.5239553165080678\n",
      "\n",
      "for k=22, knn.score =0.5576720373437736\n",
      "y_predictions     0     1\n",
      "major_fatal              \n",
      "0              6798  5287\n",
      "1               588   609\n",
      "Total Minority True Positive Rate: 0.5087719298245614\n",
      "Minority Fraction: 0.09012196958289415\n",
      "True Majority Recall Rate: 0.5625155151013653\n",
      "\n",
      "for k=23, knn.score =0.5287607288059027\n",
      "y_predictions     0     1\n",
      "major_fatal              \n",
      "0              6371  5714\n",
      "1               545   652\n",
      "Total Minority True Positive Rate: 0.5446950710108605\n",
      "Minority Fraction: 0.09012196958289415\n",
      "True Majority Recall Rate: 0.5271824575920563\n",
      "\n",
      "for k=24, knn.score =0.5568438488179491\n",
      "y_predictions     0     1\n",
      "major_fatal              \n",
      "0              6785  5300\n",
      "1               586   611\n",
      "Total Minority True Positive Rate: 0.5104427736006684\n",
      "Minority Fraction: 0.09012196958289415\n",
      "True Majority Recall Rate: 0.5614398014067026\n",
      "\n",
      "for k=25, knn.score =0.5315464538473121\n",
      "y_predictions     0     1\n",
      "major_fatal              \n",
      "0              6408  5677\n",
      "1               545   652\n",
      "Total Minority True Positive Rate: 0.5446950710108605\n",
      "Minority Fraction: 0.09012196958289415\n",
      "True Majority Recall Rate: 0.5302441042614812\n",
      "\n",
      "for k=26, knn.score =0.5552627616322843\n",
      "y_predictions     0     1\n",
      "major_fatal              \n",
      "0              6764  5321\n",
      "1               586   611\n",
      "Total Minority True Positive Rate: 0.5104427736006684\n",
      "Minority Fraction: 0.09012196958289415\n",
      "True Majority Recall Rate: 0.5597021100537857\n",
      "\n",
      "for k=27, knn.score =0.5314711639813281\n",
      "y_predictions     0     1\n",
      "major_fatal              \n",
      "0              6422  5663\n",
      "1               560   637\n",
      "Total Minority True Positive Rate: 0.5321637426900585\n",
      "Minority Fraction: 0.09012196958289415\n",
      "True Majority Recall Rate: 0.5314025651634258\n",
      "\n",
      "for k=28, knn.score =0.5557145008281885\n",
      "y_predictions     0     1\n",
      "major_fatal              \n",
      "0              6765  5320\n",
      "1               581   616\n",
      "Total Minority True Positive Rate: 0.5146198830409356\n",
      "Minority Fraction: 0.09012196958289415\n",
      "True Majority Recall Rate: 0.5597848572610674\n",
      "\n",
      "for k=29, knn.score =0.5299653666616474\n",
      "y_predictions     0     1\n",
      "major_fatal              \n",
      "0              6394  5691\n",
      "1               552   645\n",
      "Total Minority True Positive Rate: 0.5388471177944862\n",
      "Minority Fraction: 0.09012196958289415\n",
      "True Majority Recall Rate: 0.5290856433595366\n"
     ]
    }
   ],
   "source": [
    "feature_cols = ['speeding_involved','total_pedestrians','total_bicycles','total_vehicles',\n",
    "                'ward_number','x','y','bicyclistsimpaired', 'driversimpaired',\n",
    "                'pedestriansimpaired', 'offintersection']\n",
    "\n",
    "\n",
    "X = df[feature_cols]\n",
    "y = df.major_fatal\n",
    "\n",
    "X_train, X_test, y_train, y_test = train_test_split(X, y, test_size=0.1, random_state=42)\n",
    "training_df = pd.concat([X_train, y_train], axis=1)\n",
    "\n",
    "minority_data = training_df.loc[training_df.major_fatal > 0]\n",
    "majority_data = training_df.loc[training_df.major_fatal == 0]\n",
    "\n",
    "minority_data = resample(minority_data, replace=True, n_samples=120507, random_state=42)\n",
    "knn_upsampled = pd.concat([minority_data, majority_data])\n",
    "\n",
    "X_train = knn_upsampled[feature_cols]\n",
    "y_train = knn_upsampled.major_fatal\n",
    "\n",
    "testing_df = pd.concat([X_test, y_test], axis=1)\n",
    "\n",
    "knn_minority_id_rate = []  # since we're iterating over a larger set of k's, keep track...\n",
    "knn_majority_id_rate = []\n",
    "\n",
    "for k in range(2,30):\n",
    "    knn = KNeighborsClassifier(n_neighbors=k)\n",
    "    knn.fit(X_train, y_train)\n",
    "\n",
    "    #knn_upsampled['y_predictions'] = knn.predict(knn_upsampled[feature_cols])\n",
    "    testing_df['y_predictions'] = knn.predict(testing_df[feature_cols])\n",
    "    score = knn.score(X_test, y_test)\n",
    "    print()\n",
    "    print('for k={}, knn.score ={}'.format(k, score))\n",
    "    print(pd.crosstab(testing_df.major_fatal, testing_df.y_predictions))\n",
    "    \n",
    "    crosstab = pd.crosstab(testing_df.major_fatal, testing_df.y_predictions)\n",
    "    \n",
    "    total_minority = crosstab.values[1][:].sum()\n",
    "    total_minority_true_pos = crosstab.values[1][1] / total_minority\n",
    "\n",
    "    total_majority = crosstab.values[0][:].sum()\n",
    "    total_majority_true_neg = crosstab.values[0][0] / total_majority  # [0,0]\n",
    "\n",
    "    print('Total Minority True Positive Rate: {}'.format(total_minority_true_pos))\n",
    "    print('Minority Fraction: {}'.format(total_minority/(total_minority+total_majority)))\n",
    "    print('True Majority Recall Rate: {}'.format(total_majority_true_neg))\n",
    "    \n",
    "    knn_minority_id_rate.append(total_minority_true_pos)\n",
    "    knn_majority_id_rate.append(total_majority_true_neg)\n",
    "    "
   ]
  },
  {
   "cell_type": "code",
   "execution_count": 148,
   "metadata": {},
   "outputs": [
    {
     "data": {
      "text/plain": [
       "0.5622389306599833"
      ]
     },
     "execution_count": 148,
     "metadata": {},
     "output_type": "execute_result"
    }
   ],
   "source": [
    "max(knn_minority_id_rate)"
   ]
  },
  {
   "cell_type": "code",
   "execution_count": null,
   "metadata": {},
   "outputs": [],
   "source": []
  },
  {
   "cell_type": "code",
   "execution_count": null,
   "metadata": {},
   "outputs": [],
   "source": []
  },
  {
   "cell_type": "code",
   "execution_count": null,
   "metadata": {},
   "outputs": [],
   "source": []
  },
  {
   "cell_type": "markdown",
   "metadata": {},
   "source": [
    "### Assessment of modeling\n",
    "\n",
    "I attempted classification modeling to identify whether a crash involved major injories or fatalities or not.  I used random forest classifiers as well as a logistic regression model with 10-fold cross-validation.  \n",
    "\n",
    "Knowing that my data correlations were all quite weak, I did not expect very strong results.  The logistic regression returned very weak ability to identify the status of crash outcomes.  \n",
    "\n",
    "The Random Forest classification returned much better ability to classify outcomes, but only after I significantly upsampled the minority class.  \n",
    "\n",
    "I found that the most important features were all geographical in nature, the most significant being proximity to nearest intersection.  "
   ]
  },
  {
   "cell_type": "markdown",
   "metadata": {},
   "source": [
    "### Ongoing research opportunities\n",
    "\n",
    "Gaining access to data on the following fields will improve the accuracy of the models:  \n",
    "* the number of lanes of traffic\n",
    "* street speed limits by streetsegid or by latitude and longitude coordinates\n",
    "* whether on-street parking was present\n",
    "* accident timestamps\n",
    "\n",
    "This data set appears to be not fully representative of all crash data in the DC metro area, but rather a subset.  Further, the data appears to be the combination of at least two collection systems of data, and due to many missing fields from one of the contributing data collections, I had to remove those rows from my analysis, resulting in a ~20% loss of overall data.  If it is available, I recommend appending the missing data to the current set.\n",
    "\n",
    "Most importantly, I recommend work to identify all of the intersections with acute angles, and add fields to indicate the angle of the nearest intersection to each observation.  It appears from EDA that the more acute intersections are prone to a number of severe accidents, and this would lend to better predicting and avoiding serious injury or death."
   ]
  }
 ],
 "metadata": {
  "kernelspec": {
   "display_name": "Python 3",
   "language": "python",
   "name": "python3"
  },
  "language_info": {
   "codemirror_mode": {
    "name": "ipython",
    "version": 3
   },
   "file_extension": ".py",
   "mimetype": "text/x-python",
   "name": "python",
   "nbconvert_exporter": "python",
   "pygments_lexer": "ipython3",
   "version": "3.6.5"
  }
 },
 "nbformat": 4,
 "nbformat_minor": 2
}
