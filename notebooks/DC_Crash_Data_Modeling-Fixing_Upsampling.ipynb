{
 "cells": [
  {
   "cell_type": "markdown",
   "metadata": {},
   "source": [
    "## Predicting severe crashes from DC Crash Data\n",
    "\n",
    "In the following exercise I attempt to predict whether an accident will involve serious injuries or fatalities, using DC Crash Data.  I use two methods: Random Forest classifiers, and Logistic Regression classifiers.  I compare the scores and interpret the results."
   ]
  },
  {
   "cell_type": "code",
   "execution_count": 1,
   "metadata": {},
   "outputs": [],
   "source": [
    "import pandas as pd\n",
    "import numpy as np\n",
    "import matplotlib.pyplot as plt\n",
    "\n",
    "#from sklearn.ensemble import RandomForestRegressor\n",
    "from sklearn import model_selection\n",
    "from sklearn.ensemble import RandomForestClassifier\n",
    "from sklearn.linear_model import LogisticRegression\n",
    "from sklearn.neighbors import KNeighborsClassifier\n",
    "from sklearn.model_selection import train_test_split\n",
    "from sklearn.model_selection import cross_val_score\n",
    "from sklearn.utils import resample\n",
    "\n",
    "%matplotlib inline"
   ]
  },
  {
   "cell_type": "code",
   "execution_count": 2,
   "metadata": {},
   "outputs": [],
   "source": [
    "df = pd.read_csv('data/cleaned_crashes.csv', low_memory=False)"
   ]
  },
  {
   "cell_type": "markdown",
   "metadata": {},
   "source": [
    "### Final preparation of data for modeling\n",
    "Dropping unneeded columns, and dropping rows with missing or invalid data."
   ]
  },
  {
   "cell_type": "code",
   "execution_count": 3,
   "metadata": {},
   "outputs": [],
   "source": [
    "df.drop(columns=['reportdate','streetsegid','routeid','roadwaysegid','address','ward'], inplace=True)"
   ]
  },
  {
   "cell_type": "code",
   "execution_count": 4,
   "metadata": {},
   "outputs": [],
   "source": [
    "df.replace([np.inf, -np.inf], np.nan)\n",
    "df.isnull().sum()\n",
    "df.dropna(inplace=True)\n",
    "\n",
    "df.date_r = df.date_r.astype('datetime64[ns]')\n",
    "df.to_csv('data/random_forest_data.csv')"
   ]
  },
  {
   "cell_type": "markdown",
   "metadata": {},
   "source": [
    "### Random Forest\n",
    "\n",
    "1. clean up data (for nulls, etc.)\n",
    "2. split the data (train/test)\n",
    "3. create model instance\n",
    "4. fit the data\n",
    "5. predict and score"
   ]
  },
  {
   "cell_type": "code",
   "execution_count": 5,
   "metadata": {},
   "outputs": [
    {
     "data": {
      "text/plain": [
       "Index(['x', 'y', 'majorinjuries_bicyclist', 'minorinjuries_bicyclist',\n",
       "       'fatal_bicyclist', 'majorinjuries_driver', 'minorinjuries_driver',\n",
       "       'fatal_driver', 'majorinjuries_pedestrian', 'minorinjuries_pedestrian',\n",
       "       'fatal_pedestrian', 'total_vehicles', 'total_bicycles',\n",
       "       'total_pedestrians', 'pedestriansimpaired', 'bicyclistsimpaired',\n",
       "       'driversimpaired', 'total_taxis', 'total_government',\n",
       "       'speeding_involved', 'offintersection', 'intapproachdirection',\n",
       "       'ward_number', 'date_r', 'injuries_any', 'day_of_week', 'fatal',\n",
       "       'ped_inj_or_fatal', 'driver_inj_or_fatal', 'bike_inj_or_fatal'],\n",
       "      dtype='object')"
      ]
     },
     "execution_count": 5,
     "metadata": {},
     "output_type": "execute_result"
    }
   ],
   "source": [
    "df.columns"
   ]
  },
  {
   "cell_type": "markdown",
   "metadata": {},
   "source": [
    "I am pulling in the features that are most likely to successfully predict major injuries and fatalities from the crash data.  I'm selecting either my engineered features or features that came with the original dataset, but taking care to not include non-independent features.\n",
    "\n",
    "In this pass I try to predict if there are any injuries in a crash."
   ]
  },
  {
   "cell_type": "code",
   "execution_count": 6,
   "metadata": {},
   "outputs": [],
   "source": [
    "feature_cols = ['speeding_involved','total_pedestrians','total_bicycles',\n",
    "               'total_vehicles','ward_number','x','y', 'bicyclistsimpaired',\n",
    "               'driversimpaired','pedestriansimpaired','offintersection']\n",
    "\n",
    "X = df[feature_cols]\n",
    "y = df['injuries_any']"
   ]
  },
  {
   "cell_type": "code",
   "execution_count": 7,
   "metadata": {},
   "outputs": [],
   "source": [
    "X_train, X_test, y_train, y_test = train_test_split(X, y, test_size=.2, random_state=42)"
   ]
  },
  {
   "cell_type": "code",
   "execution_count": 8,
   "metadata": {},
   "outputs": [
    {
     "name": "stdout",
     "output_type": "stream",
     "text": [
      "(106255, 11) (106255,)\n",
      "speeding_involved      float64\n",
      "total_pedestrians      float64\n",
      "total_bicycles           int64\n",
      "total_vehicles         float64\n",
      "ward_number            float64\n",
      "x                      float64\n",
      "y                      float64\n",
      "bicyclistsimpaired       int64\n",
      "driversimpaired          int64\n",
      "pedestriansimpaired      int64\n",
      "offintersection        float64\n",
      "dtype: object\n"
     ]
    }
   ],
   "source": [
    "print(X_train.shape, y_train.shape)\n",
    "y_train.describe()\n",
    "print(X_train.dtypes)"
   ]
  },
  {
   "cell_type": "markdown",
   "metadata": {},
   "source": [
    "The confusion matrix shows that my ability to identify the Major Injuries/Death status is okay, but my non-major crashes are less likely to be accurately predicted.  "
   ]
  },
  {
   "cell_type": "code",
   "execution_count": 9,
   "metadata": {},
   "outputs": [
    {
     "data": {
      "text/html": [
       "<div>\n",
       "<style scoped>\n",
       "    .dataframe tbody tr th:only-of-type {\n",
       "        vertical-align: middle;\n",
       "    }\n",
       "\n",
       "    .dataframe tbody tr th {\n",
       "        vertical-align: top;\n",
       "    }\n",
       "\n",
       "    .dataframe thead th {\n",
       "        text-align: right;\n",
       "    }\n",
       "</style>\n",
       "<table border=\"1\" class=\"dataframe\">\n",
       "  <thead>\n",
       "    <tr style=\"text-align: right;\">\n",
       "      <th>Predicted Status</th>\n",
       "      <th>0</th>\n",
       "      <th>1</th>\n",
       "    </tr>\n",
       "    <tr>\n",
       "      <th>Actual Status</th>\n",
       "      <th></th>\n",
       "      <th></th>\n",
       "    </tr>\n",
       "  </thead>\n",
       "  <tbody>\n",
       "    <tr>\n",
       "      <th>0</th>\n",
       "      <td>17983</td>\n",
       "      <td>1903</td>\n",
       "    </tr>\n",
       "    <tr>\n",
       "      <th>1</th>\n",
       "      <td>5145</td>\n",
       "      <td>1533</td>\n",
       "    </tr>\n",
       "  </tbody>\n",
       "</table>\n",
       "</div>"
      ],
      "text/plain": [
       "Predicted Status      0     1\n",
       "Actual Status                \n",
       "0                 17983  1903\n",
       "1                  5145  1533"
      ]
     },
     "execution_count": 9,
     "metadata": {},
     "output_type": "execute_result"
    }
   ],
   "source": [
    "rfc = RandomForestClassifier(n_estimators=100)\n",
    "rfc.fit(X_train, y_train)\n",
    "predictions = rfc.predict(X_test)\n",
    "\n",
    "pd.crosstab(y_test, predictions, rownames=['Actual Status'], colnames=['Predicted Status'])"
   ]
  },
  {
   "cell_type": "markdown",
   "metadata": {},
   "source": [
    "The most significant feature in the model is 'offintersection', which is the distance to the nearest intersection.  The coordinates of the crash are the only other somewhat significant indicators of outcomes, the rest of the features playing very minor roles."
   ]
  },
  {
   "cell_type": "code",
   "execution_count": 10,
   "metadata": {},
   "outputs": [
    {
     "data": {
      "text/plain": [
       "[('speeding_involved', 0.02740993157272524),\n",
       " ('total_pedestrians', 0.03255444520432562),\n",
       " ('total_bicycles', 0.015621396329637615),\n",
       " ('total_vehicles', 0.028017886505542502),\n",
       " ('ward_number', 0.012026791219064198),\n",
       " ('x', 0.27484628372211306),\n",
       " ('y', 0.28394238900732405),\n",
       " ('bicyclistsimpaired', 6.338849292103732e-05),\n",
       " ('driversimpaired', 0.0025025609601478354),\n",
       " ('pedestriansimpaired', 0.0003392645030536018),\n",
       " ('offintersection', 0.3226756624831455)]"
      ]
     },
     "execution_count": 10,
     "metadata": {},
     "output_type": "execute_result"
    }
   ],
   "source": [
    "list(zip(X_train, rfc.feature_importances_))\n"
   ]
  },
  {
   "cell_type": "code",
   "execution_count": 10,
   "metadata": {},
   "outputs": [
    {
     "data": {
      "text/plain": [
       "0.7346785122722481"
      ]
     },
     "execution_count": 10,
     "metadata": {},
     "output_type": "execute_result"
    }
   ],
   "source": [
    "rfc.score(X_test, y_test)"
   ]
  },
  {
   "cell_type": "markdown",
   "metadata": {},
   "source": [
    "I ran through a large range of k to identify the best number of regressors.  It tapered off around 50 with only slight improvements through 99."
   ]
  },
  {
   "cell_type": "code",
   "execution_count": 11,
   "metadata": {},
   "outputs": [],
   "source": [
    "# What's the best number of regressors?\n",
    "rsq_list = []\n",
    "\n",
    "for k in range(2, 100):\n",
    "    rfc = RandomForestClassifier(n_estimators=k)\n",
    "    rfc.fit(X_train, y_train)\n",
    "    score = rfc.score(X_test, y_test)\n",
    "    rsq_list.append(score)"
   ]
  },
  {
   "cell_type": "code",
   "execution_count": 13,
   "metadata": {},
   "outputs": [
    {
     "data": {
      "text/plain": [
       "[<matplotlib.lines.Line2D at 0x1a163265f8>]"
      ]
     },
     "execution_count": 13,
     "metadata": {},
     "output_type": "execute_result"
    },
    {
     "data": {
      "image/png": "[encoded data removed]",
      "text/plain": [
       "<Figure size 432x288 with 1 Axes>"
      ]
     },
     "metadata": {},
     "output_type": "display_data"
    }
   ],
   "source": [
    "plt.plot(rsq_list)"
   ]
  },
  {
   "cell_type": "code",
   "execution_count": 14,
   "metadata": {},
   "outputs": [
    {
     "data": {
      "text/plain": [
       "[('speeding_involved', 0.026992925738586623),\n",
       " ('total_pedestrians', 0.0319428413891126),\n",
       " ('total_bicycles', 0.015718590823381923),\n",
       " ('total_vehicles', 0.02743635597543464),\n",
       " ('ward_number', 0.01241536203723836),\n",
       " ('x', 0.27602108541544357),\n",
       " ('y', 0.2842933126181206),\n",
       " ('bicyclistsimpaired', 6.732451602001915e-05),\n",
       " ('driversimpaired', 0.002649821792553205),\n",
       " ('pedestriansimpaired', 0.00036037635030765293),\n",
       " ('offintersection', 0.3221020033438008)]"
      ]
     },
     "execution_count": 14,
     "metadata": {},
     "output_type": "execute_result"
    }
   ],
   "source": [
    "list(zip(X_train, rfc.feature_importances_))"
   ]
  },
  {
   "cell_type": "code",
   "execution_count": 15,
   "metadata": {},
   "outputs": [
    {
     "data": {
      "text/plain": [
       "0.736447824122873"
      ]
     },
     "execution_count": 15,
     "metadata": {},
     "output_type": "execute_result"
    }
   ],
   "source": [
    "max(rsq_list)"
   ]
  },
  {
   "cell_type": "markdown",
   "metadata": {},
   "source": [
    "### Random Forest to predict major injuries or fatalities (vs minor injuries and no injuries)\n",
    "Here I try to predict the major injuries and fatalities among the crash data.  I'll update my dataframe to include a field for major_fatal, to use as labels. "
   ]
  },
  {
   "cell_type": "code",
   "execution_count": 16,
   "metadata": {},
   "outputs": [
    {
     "data": {
      "text/plain": [
       "12312"
      ]
     },
     "execution_count": 16,
     "metadata": {},
     "output_type": "execute_result"
    }
   ],
   "source": [
    "df.columns\n",
    "df['major_fatal'] = 0\n",
    "df.loc[((df.majorinjuries_bicyclist>0) | (df.fatal_bicyclist>0) | \n",
    "        (df.majorinjuries_driver>0) | (df.fatal_driver>0) | \n",
    "        (df.majorinjuries_pedestrian>0) | (df.fatal_pedestrian>0)), 'major_fatal'] = 1\n",
    "\n",
    "df.major_fatal.sum()"
   ]
  },
  {
   "cell_type": "code",
   "execution_count": 17,
   "metadata": {},
   "outputs": [],
   "source": [
    "feature_cols = ['speeding_involved','total_pedestrians','total_bicycles',\n",
    "               'total_vehicles','ward_number','x','y', 'bicyclistsimpaired',\n",
    "               'driversimpaired','pedestriansimpaired','offintersection']\n",
    "\n",
    "X = df[feature_cols]\n",
    "y = df['major_fatal']\n",
    "\n",
    "X_train, X_test, y_train, y_test = train_test_split(X, y, test_size=.2, random_state=42)"
   ]
  },
  {
   "cell_type": "code",
   "execution_count": 18,
   "metadata": {},
   "outputs": [
    {
     "data": {
      "text/html": [
       "<div>\n",
       "<style scoped>\n",
       "    .dataframe tbody tr th:only-of-type {\n",
       "        vertical-align: middle;\n",
       "    }\n",
       "\n",
       "    .dataframe tbody tr th {\n",
       "        vertical-align: top;\n",
       "    }\n",
       "\n",
       "    .dataframe thead th {\n",
       "        text-align: right;\n",
       "    }\n",
       "</style>\n",
       "<table border=\"1\" class=\"dataframe\">\n",
       "  <thead>\n",
       "    <tr style=\"text-align: right;\">\n",
       "      <th>col_0</th>\n",
       "      <th>0</th>\n",
       "      <th>1</th>\n",
       "    </tr>\n",
       "    <tr>\n",
       "      <th>major_fatal</th>\n",
       "      <th></th>\n",
       "      <th></th>\n",
       "    </tr>\n",
       "  </thead>\n",
       "  <tbody>\n",
       "    <tr>\n",
       "      <th>0</th>\n",
       "      <td>23672</td>\n",
       "      <td>471</td>\n",
       "    </tr>\n",
       "    <tr>\n",
       "      <th>1</th>\n",
       "      <td>2341</td>\n",
       "      <td>80</td>\n",
       "    </tr>\n",
       "  </tbody>\n",
       "</table>\n",
       "</div>"
      ],
      "text/plain": [
       "col_0            0    1\n",
       "major_fatal            \n",
       "0            23672  471\n",
       "1             2341   80"
      ]
     },
     "execution_count": 18,
     "metadata": {},
     "output_type": "execute_result"
    }
   ],
   "source": [
    "rfc = RandomForestClassifier(n_estimators=100)\n",
    "rfc.fit(X_train, y_train)\n",
    "predictions = rfc.predict(X_test)\n",
    "pd.crosstab(y_test, predictions)"
   ]
  },
  {
   "cell_type": "markdown",
   "metadata": {},
   "source": [
    "My model score is fairly good.  But don't be fooled by that score--the confusion matrix above clearly demonstrates that my model grossly underpredicts the minority case.  Having a strong model score is meaningless if the minority data cannot be predicted."
   ]
  },
  {
   "cell_type": "code",
   "execution_count": 19,
   "metadata": {},
   "outputs": [
    {
     "data": {
      "text/plain": [
       "0.8941424484264417"
      ]
     },
     "execution_count": 19,
     "metadata": {},
     "output_type": "execute_result"
    }
   ],
   "source": [
    "score = rfc.score(X_test, y_test)\n",
    "score"
   ]
  },
  {
   "cell_type": "code",
   "execution_count": 20,
   "metadata": {},
   "outputs": [
    {
     "data": {
      "text/plain": [
       "[('speeding_involved', 0.012976257386663151),\n",
       " ('total_pedestrians', 0.004266527955074425),\n",
       " ('total_bicycles', 0.0020836941949712875),\n",
       " ('total_vehicles', 0.025914292341895812),\n",
       " ('ward_number', 0.013357036288709023),\n",
       " ('x', 0.2918761147344557),\n",
       " ('y', 0.2979285744636724),\n",
       " ('bicyclistsimpaired', 0.0003240921835122652),\n",
       " ('driversimpaired', 0.001548622998986292),\n",
       " ('pedestriansimpaired', 0.0005057794269553178),\n",
       " ('offintersection', 0.34921900802510436)]"
      ]
     },
     "execution_count": 20,
     "metadata": {},
     "output_type": "execute_result"
    }
   ],
   "source": [
    "list(zip(X_train, rfc.feature_importances_))"
   ]
  },
  {
   "cell_type": "markdown",
   "metadata": {},
   "source": [
    "### Artificial Subsampling\n",
    "\n",
    "We saw that the score above, predicting accidents with major injuries or fatalities, was very good at 0.895.  However, the associated confusion matrix indicates that our model predicted very few of the actual major injury/fatal accidents (86 of 2335), so it was actually not a good model.  Far fewer than the lower-scoring limited feature_columns dataset (score 0.734, but predicting 1543 of 5135 major/fatal accidents).  \n",
    "\n",
    "I'll try to better train the model by upsampling the training set to balance the major/fatal incidences with the non-major/non-fatal accidents.  I'll select random samples from each category and use these as my training data.  I'll also reduce my testing data ratio to 10%, to allow more data on which to train.\n",
    "\n",
    "References: https://elitedatascience.com/imbalanced-classes, "
   ]
  },
  {
   "cell_type": "code",
   "execution_count": 21,
   "metadata": {},
   "outputs": [
    {
     "data": {
      "text/plain": [
       "(120507, 31)"
      ]
     },
     "execution_count": 21,
     "metadata": {},
     "output_type": "execute_result"
    }
   ],
   "source": [
    "df[df.major_fatal == 1].shape[0] / df[df.major_fatal == 0].shape[0]\n",
    "#df.sample()\n",
    "majors = df.loc[df.major_fatal == 1]\n",
    "low_injuries = df.loc[df.major_fatal == 0]\n",
    "low_injuries.shape\n",
    "\n",
    "#majors.sample(11000)\n",
    "#low_injuries.sample(20000)"
   ]
  },
  {
   "cell_type": "markdown",
   "metadata": {},
   "source": [
    "Resize my minority class (major injuries or fatalities) to equal the size of my majority class.  I'll resample with replacement to achieve this, getting 120,507 samples."
   ]
  },
  {
   "cell_type": "code",
   "execution_count": 22,
   "metadata": {},
   "outputs": [],
   "source": [
    "\n",
    "df_majors_upsampled = resample(majors, replace=True, n_samples=120507, random_state=42)\n",
    "df_upsampled = pd.concat([df_majors_upsampled, low_injuries])"
   ]
  },
  {
   "cell_type": "markdown",
   "metadata": {},
   "source": [
    "### Improving results with upsampled minority data\n",
    "\n",
    "Below I re-run the random forest classification model, using the upsampled data (in which major injury/fatal accidents occur as often as the non-injury/minor-injury accidents).  \n",
    "\n",
    "Accuracy scoring is decreased slightly from 0.895 to 0.871, but the confusion matrix is tremendously improved, from 0.98% accuracy non-major and 4% accuracy major/fatal, to 74% accuracy non-major and 95% accuracy major/fatal accidents.\n"
   ]
  },
  {
   "cell_type": "code",
   "execution_count": 23,
   "metadata": {},
   "outputs": [
    {
     "data": {
      "text/html": [
       "<div>\n",
       "<style scoped>\n",
       "    .dataframe tbody tr th:only-of-type {\n",
       "        vertical-align: middle;\n",
       "    }\n",
       "\n",
       "    .dataframe tbody tr th {\n",
       "        vertical-align: top;\n",
       "    }\n",
       "\n",
       "    .dataframe thead th {\n",
       "        text-align: right;\n",
       "    }\n",
       "</style>\n",
       "<table border=\"1\" class=\"dataframe\">\n",
       "  <thead>\n",
       "    <tr style=\"text-align: right;\">\n",
       "      <th>col_0</th>\n",
       "      <th>0</th>\n",
       "      <th>1</th>\n",
       "    </tr>\n",
       "    <tr>\n",
       "      <th>major_fatal</th>\n",
       "      <th></th>\n",
       "      <th></th>\n",
       "    </tr>\n",
       "  </thead>\n",
       "  <tbody>\n",
       "    <tr>\n",
       "      <th>0</th>\n",
       "      <td>9753</td>\n",
       "      <td>2369</td>\n",
       "    </tr>\n",
       "    <tr>\n",
       "      <th>1</th>\n",
       "      <td>599</td>\n",
       "      <td>11381</td>\n",
       "    </tr>\n",
       "  </tbody>\n",
       "</table>\n",
       "</div>"
      ],
      "text/plain": [
       "col_0           0      1\n",
       "major_fatal             \n",
       "0            9753   2369\n",
       "1             599  11381"
      ]
     },
     "execution_count": 23,
     "metadata": {},
     "output_type": "execute_result"
    }
   ],
   "source": [
    "X = df_upsampled[feature_cols]\n",
    "y = df_upsampled.major_fatal\n",
    "\n",
    "X_train, X_test, y_train, y_test = train_test_split(X, y, test_size=0.1)\n",
    "\n",
    "rfc = RandomForestClassifier(n_estimators=100)\n",
    "rfc.fit(X_train, y_train)\n",
    "predictions = rfc.predict(X_test)\n",
    "pd.crosstab(y_test, predictions)"
   ]
  },
  {
   "cell_type": "code",
   "execution_count": 24,
   "metadata": {},
   "outputs": [
    {
     "data": {
      "text/plain": [
       "0.876856692390673"
      ]
     },
     "execution_count": 24,
     "metadata": {},
     "output_type": "execute_result"
    }
   ],
   "source": [
    "rfc.score(X_test, y_test)"
   ]
  },
  {
   "cell_type": "markdown",
   "metadata": {},
   "source": [
    "### Logistic Regression\n",
    "\n",
    "I'll also attempt a classification using logistic regression.  I'll use the same up-sampled data from above and compare the scores.  As I feared, the score is quite weak, even with an upsampled minority class.  I do not recommend the Logistic Regression Model for this exercise."
   ]
  },
  {
   "cell_type": "code",
   "execution_count": 25,
   "metadata": {},
   "outputs": [
    {
     "data": {
      "text/plain": [
       "0.5461787403534977"
      ]
     },
     "execution_count": 25,
     "metadata": {},
     "output_type": "execute_result"
    }
   ],
   "source": [
    "lr = LogisticRegression()\n",
    "lr.fit(X_train, y_train)\n",
    "predictions = lr.predict(X_test)\n",
    "lr.score(X_test, y_test)\n"
   ]
  },
  {
   "cell_type": "code",
   "execution_count": 26,
   "metadata": {},
   "outputs": [
    {
     "data": {
      "text/plain": [
       "0.5476737180702254"
      ]
     },
     "execution_count": 26,
     "metadata": {},
     "output_type": "execute_result"
    }
   ],
   "source": [
    "\n",
    "kfold = model_selection.KFold(n_splits=10, random_state=42)\n",
    "model = LogisticRegression()\n",
    "result = model_selection.cross_val_score(model, X_train, y_train, cv=kfold, scoring='accuracy')\n",
    "result.mean()"
   ]
  },
  {
   "cell_type": "markdown",
   "metadata": {},
   "source": [
    "### KNN Classification\n",
    "\n",
    "Since it is plausible that serious accidents occur frequently in the most dangerous street segments and intersections, I'll attempt a KNN Classification model to determine if I can predict major injuries or fatalities.\n",
    "\n",
    "Note, I'll use KNN without the upsampling used in other models."
   ]
  },
  {
   "cell_type": "code",
   "execution_count": 27,
   "metadata": {},
   "outputs": [
    {
     "name": "stdout",
     "output_type": "stream",
     "text": [
      "Best score of 0.910179189881042 first identified at k=17\n"
     ]
    }
   ],
   "source": [
    "from sklearn.neighbors import KNeighborsClassifier\n",
    "from sklearn import metrics\n",
    "\n",
    "X = df[feature_cols]\n",
    "y = df.major_fatal\n",
    "\n",
    "X_train, X_test, y_train, y_test = train_test_split(X, y, test_size=0.1, random_state=42)\n",
    "knn_scores = []\n",
    "scoremax = 0\n",
    "kmax = 0\n",
    "\n",
    "for k in range(1,41):\n",
    "    knn = KNeighborsClassifier(n_neighbors=k)\n",
    "    knn.fit(X_train, y_train)\n",
    "    score = knn.score(X_test, y_test)\n",
    "    knn_scores.append((k, score))\n",
    "    if score > scoremax:\n",
    "        scoremax = score\n",
    "        kmax = k\n",
    "\n",
    "print('Best score of {} first identified at k={}'.format(scoremax, kmax))"
   ]
  },
  {
   "cell_type": "markdown",
   "metadata": {},
   "source": [
    "The best score I got was 0.91.  Superficially this model looks promising, but we must ensure that the minority values are accurately classified before we have confidence in the score.  \n",
    "\n",
    "The following confusion matrix shows a sensitivity of less than 1%, so this is in fact a terrible predictive model of major injuries or fatalities."
   ]
  },
  {
   "cell_type": "code",
   "execution_count": 28,
   "metadata": {},
   "outputs": [
    {
     "data": {
      "image/png": "[encoded data removed]",
      "text/plain": [
       "<Figure size 432x288 with 1 Axes>"
      ]
     },
     "metadata": {},
     "output_type": "display_data"
    }
   ],
   "source": [
    "#plt.plot(x=knn_scores.keys, y=knn_scores[knn_scores.keys])\n",
    "x_vals = [x[0] for x in knn_scores]\n",
    "y_vals = [y[1] for y in knn_scores]\n",
    "\n",
    "plt.ylim((0.8,0.95))\n",
    "plt.plot(x_vals, y_vals, )\n",
    "plt.show()"
   ]
  },
  {
   "cell_type": "code",
   "execution_count": 29,
   "metadata": {},
   "outputs": [],
   "source": [
    "knn = KNeighborsClassifier(n_neighbors=kmax)\n",
    "knn.fit(X_train, y_train)\n",
    "df_knn = df.copy(deep=True)\n",
    "df_knn['y_predictions'] = knn.predict(df_knn[feature_cols])"
   ]
  },
  {
   "cell_type": "code",
   "execution_count": 30,
   "metadata": {},
   "outputs": [
    {
     "data": {
      "text/html": [
       "<div>\n",
       "<style scoped>\n",
       "    .dataframe tbody tr th:only-of-type {\n",
       "        vertical-align: middle;\n",
       "    }\n",
       "\n",
       "    .dataframe tbody tr th {\n",
       "        vertical-align: top;\n",
       "    }\n",
       "\n",
       "    .dataframe thead th {\n",
       "        text-align: right;\n",
       "    }\n",
       "</style>\n",
       "<table border=\"1\" class=\"dataframe\">\n",
       "  <thead>\n",
       "    <tr style=\"text-align: right;\">\n",
       "      <th>y_predictions</th>\n",
       "      <th>0</th>\n",
       "      <th>1</th>\n",
       "    </tr>\n",
       "    <tr>\n",
       "      <th>major_fatal</th>\n",
       "      <th></th>\n",
       "      <th></th>\n",
       "    </tr>\n",
       "  </thead>\n",
       "  <tbody>\n",
       "    <tr>\n",
       "      <th>0</th>\n",
       "      <td>120486</td>\n",
       "      <td>21</td>\n",
       "    </tr>\n",
       "    <tr>\n",
       "      <th>1</th>\n",
       "      <td>12284</td>\n",
       "      <td>28</td>\n",
       "    </tr>\n",
       "  </tbody>\n",
       "</table>\n",
       "</div>"
      ],
      "text/plain": [
       "y_predictions       0   1\n",
       "major_fatal              \n",
       "0              120486  21\n",
       "1               12284  28"
      ]
     },
     "execution_count": 30,
     "metadata": {},
     "output_type": "execute_result"
    }
   ],
   "source": [
    "pd.crosstab(df_knn.major_fatal, df_knn.y_predictions)"
   ]
  },
  {
   "cell_type": "markdown",
   "metadata": {},
   "source": [
    "### KNN Classification with Upsampling\n",
    "\n",
    "With upsampled minority data, I still have a poor classifier using KNN Classification, however the minority data prediction (for major injuries or fatalities) significantly improves.  The overall accuracy score declines to 69% accuracy, with minority True Positive (sensitivity) rate of 86%, but a much weaker majority sensitivity of 59%.\n",
    "\n",
    "In general, KNN Classification is not a useful model in this case."
   ]
  },
  {
   "cell_type": "code",
   "execution_count": 31,
   "metadata": {},
   "outputs": [
    {
     "data": {
      "text/plain": [
       "0.6933034602937516"
      ]
     },
     "execution_count": 31,
     "metadata": {},
     "output_type": "execute_result"
    }
   ],
   "source": [
    "df_majors_upsampled = resample(majors, replace=True, n_samples=120507, random_state=42)\n",
    "knn_upsampled = pd.concat([df_majors_upsampled, low_injuries])\n",
    "\n",
    "X = knn_upsampled[feature_cols]\n",
    "y = knn_upsampled['major_fatal']\n",
    "\n",
    "X_train, X_test, y_train, y_test = train_test_split(X, y, test_size=0.1, random_state=42)\n",
    "\n",
    "knn = KNeighborsClassifier(n_neighbors=kmax)\n",
    "knn.fit(X_train, y_train)\n",
    "\n",
    "knn_upsampled['y_predictions'] = knn.predict(knn_upsampled[feature_cols])\n",
    "knn.score(X_test, y_test)"
   ]
  },
  {
   "cell_type": "code",
   "execution_count": 32,
   "metadata": {},
   "outputs": [
    {
     "data": {
      "text/html": [
       "<div>\n",
       "<style scoped>\n",
       "    .dataframe tbody tr th:only-of-type {\n",
       "        vertical-align: middle;\n",
       "    }\n",
       "\n",
       "    .dataframe tbody tr th {\n",
       "        vertical-align: top;\n",
       "    }\n",
       "\n",
       "    .dataframe thead th {\n",
       "        text-align: right;\n",
       "    }\n",
       "</style>\n",
       "<table border=\"1\" class=\"dataframe\">\n",
       "  <thead>\n",
       "    <tr style=\"text-align: right;\">\n",
       "      <th>y_predictions</th>\n",
       "      <th>0</th>\n",
       "      <th>1</th>\n",
       "    </tr>\n",
       "    <tr>\n",
       "      <th>major_fatal</th>\n",
       "      <th></th>\n",
       "      <th></th>\n",
       "    </tr>\n",
       "  </thead>\n",
       "  <tbody>\n",
       "    <tr>\n",
       "      <th>0</th>\n",
       "      <td>71525</td>\n",
       "      <td>48982</td>\n",
       "    </tr>\n",
       "    <tr>\n",
       "      <th>1</th>\n",
       "      <td>16625</td>\n",
       "      <td>103882</td>\n",
       "    </tr>\n",
       "  </tbody>\n",
       "</table>\n",
       "</div>"
      ],
      "text/plain": [
       "y_predictions      0       1\n",
       "major_fatal                 \n",
       "0              71525   48982\n",
       "1              16625  103882"
      ]
     },
     "execution_count": 32,
     "metadata": {},
     "output_type": "execute_result"
    }
   ],
   "source": [
    "pd.crosstab(knn_upsampled.major_fatal, knn_upsampled.y_predictions)"
   ]
  },
  {
   "cell_type": "markdown",
   "metadata": {},
   "source": [
    "### Assessment of modeling\n",
    "\n",
    "I attempted classification modeling to identify whether a crash involved major injories or fatalities or not.  I used random forest classifiers as well as a logistic regression model with 10-fold cross-validation.  \n",
    "\n",
    "Knowing that my data correlations were all quite weak, I did not expect very strong results.  The logistic regression returned very weak ability to identify the status of crash outcomes.  \n",
    "\n",
    "The Random Forest classification returned much better ability to classify outcomes, but only after I significantly upsampled the minority class.  \n",
    "\n",
    "I found that the most important features were all geographical in nature, the most significant being proximity to nearest intersection.  "
   ]
  },
  {
   "cell_type": "markdown",
   "metadata": {},
   "source": [
    "### Ongoing research opportunities\n",
    "\n",
    "Gaining access to data on the following fields will improve the accuracy of the models:  \n",
    "* the number of lanes of traffic\n",
    "* street speed limits by streetsegid or by latitude and longitude coordinates\n",
    "* whether on-street parking was present\n",
    "* accident timestamps\n",
    "\n",
    "This data set appears to be not fully representative of all crash data in the DC metro area, but rather a subset.  Further, the data appears to be the combination of at least two collection systems of data, and due to many missing fields from one of the contributing data collections, I had to remove those rows from my analysis, resulting in a ~20% loss of overall data.  If it is available, I recommend appending the missing data to the current set.\n",
    "\n",
    "Most importantly, I recommend work to identify all of the intersections with acute angles, and add fields to indicate the angle of the nearest intersection to each observation.  It appears from EDA that the more acute intersections are prone to a number of severe accidents, and this would lend to better predicting and avoiding serious injury or death."
   ]
  }
 ],
 "metadata": {
  "kernelspec": {
   "display_name": "Python 3",
   "language": "python",
   "name": "python3"
  },
  "language_info": {
   "codemirror_mode": {
    "name": "ipython",
    "version": 3
   },
   "file_extension": ".py",
   "mimetype": "text/x-python",
   "name": "python",
   "nbconvert_exporter": "python",
   "pygments_lexer": "ipython3",
   "version": "3.6.5"
  }
 },
 "nbformat": 4,
 "nbformat_minor": 2
}
